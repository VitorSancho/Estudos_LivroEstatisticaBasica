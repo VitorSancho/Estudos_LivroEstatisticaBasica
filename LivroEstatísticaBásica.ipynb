{
  "nbformat": 4,
  "nbformat_minor": 0,
  "metadata": {
    "colab": {
      "name": "LivroEstatísticaBásica.ipynb",
      "provenance": [],
      "collapsed_sections": [],
      "authorship_tag": "ABX9TyOKUmJ4PGonQvdGQ17mE5XY",
      "include_colab_link": true
    },
    "kernelspec": {
      "display_name": "Python 3",
      "name": "python3"
    }
  },
  "cells": [
    {
      "cell_type": "markdown",
      "metadata": {
        "id": "view-in-github",
        "colab_type": "text"
      },
      "source": [
        "<a href=\"https://colab.research.google.com/github/vitorsanchocardoso/Estudos_LivroEstatisticaBasica/blob/main/LivroEstat%C3%ADsticaB%C3%A1sica.ipynb\" target=\"_parent\"><img src=\"https://colab.research.google.com/assets/colab-badge.svg\" alt=\"Open In Colab\"/></a>"
      ]
    },
    {
      "cell_type": "code",
      "metadata": {
        "id": "iUApd8GJnWag"
      },
      "source": [
        "import pandas as pd\r\n",
        "import numpy as np\r\n",
        "import seaborn as sns\r\n",
        "import matplotlib.pyplot as plt"
      ],
      "execution_count": null,
      "outputs": []
    },
    {
      "cell_type": "markdown",
      "metadata": {
        "id": "z7IBHoagnWiv"
      },
      "source": [
        "# Parte 1 - Análise exploratória de dados"
      ]
    },
    {
      "cell_type": "markdown",
      "metadata": {
        "id": "dTR1fwBQsa7F"
      },
      "source": [
        "Capítulo 2 - Tipos de Variáveis"
      ]
    },
    {
      "cell_type": "code",
      "metadata": {
        "colab": {
          "base_uri": "https://localhost:8080/"
        },
        "id": "6WAZte-0eiwf",
        "outputId": "ee867283-4ea4-42ae-c9d7-678a656942cc"
      },
      "source": [
        "from google.colab import drive\r\n",
        "\r\n",
        "drive.mount('/content/drive')"
      ],
      "execution_count": null,
      "outputs": [
        {
          "output_type": "stream",
          "text": [
            "Drive already mounted at /content/drive; to attempt to forcibly remount, call drive.mount(\"/content/drive\", force_remount=True).\n"
          ],
          "name": "stdout"
        }
      ]
    },
    {
      "cell_type": "code",
      "metadata": {
        "colab": {
          "base_uri": "https://localhost:8080/",
          "height": 197
        },
        "id": "OSAwotsVejOa",
        "outputId": "201575fa-71fa-4495-f0ef-12f4ff26cef6"
      },
      "source": [
        "dados=pd.read_excel(\"/content/drive/My Drive/Dados_livro_estatistica_basica.xlsx\",'Tabela 2.1',header=1)\r\n",
        "dados.rename(columns={\"Grau de Instrução\":'grau_de_instrução',\"Anos (x Sal Min)\":\"Salario\",\"Região de Procedência\":\"Regiao\"},inplace=True)\r\n",
        "dados.head()\r\n",
        "\r\n"
      ],
      "execution_count": null,
      "outputs": [
        {
          "output_type": "execute_result",
          "data": {
            "text/html": [
              "<div>\n",
              "<style scoped>\n",
              "    .dataframe tbody tr th:only-of-type {\n",
              "        vertical-align: middle;\n",
              "    }\n",
              "\n",
              "    .dataframe tbody tr th {\n",
              "        vertical-align: top;\n",
              "    }\n",
              "\n",
              "    .dataframe thead th {\n",
              "        text-align: right;\n",
              "    }\n",
              "</style>\n",
              "<table border=\"1\" class=\"dataframe\">\n",
              "  <thead>\n",
              "    <tr style=\"text-align: right;\">\n",
              "      <th></th>\n",
              "      <th>N</th>\n",
              "      <th>Estado Civil</th>\n",
              "      <th>grau_de_instrução</th>\n",
              "      <th>N de Filhos</th>\n",
              "      <th>Salario (x Sal Min)</th>\n",
              "      <th>Anos</th>\n",
              "      <th>Meses</th>\n",
              "      <th>Regiao</th>\n",
              "    </tr>\n",
              "  </thead>\n",
              "  <tbody>\n",
              "    <tr>\n",
              "      <th>0</th>\n",
              "      <td>1</td>\n",
              "      <td>solteiro</td>\n",
              "      <td>ensino fundamental</td>\n",
              "      <td>NaN</td>\n",
              "      <td>4.00</td>\n",
              "      <td>26</td>\n",
              "      <td>3</td>\n",
              "      <td>interior</td>\n",
              "    </tr>\n",
              "    <tr>\n",
              "      <th>1</th>\n",
              "      <td>2</td>\n",
              "      <td>casado</td>\n",
              "      <td>ensino fundamental</td>\n",
              "      <td>1.0</td>\n",
              "      <td>4.56</td>\n",
              "      <td>32</td>\n",
              "      <td>10</td>\n",
              "      <td>capital</td>\n",
              "    </tr>\n",
              "    <tr>\n",
              "      <th>2</th>\n",
              "      <td>3</td>\n",
              "      <td>casado</td>\n",
              "      <td>ensino fundamental</td>\n",
              "      <td>2.0</td>\n",
              "      <td>5.25</td>\n",
              "      <td>36</td>\n",
              "      <td>5</td>\n",
              "      <td>capital</td>\n",
              "    </tr>\n",
              "    <tr>\n",
              "      <th>3</th>\n",
              "      <td>4</td>\n",
              "      <td>solteiro</td>\n",
              "      <td>ensino médio</td>\n",
              "      <td>NaN</td>\n",
              "      <td>5.73</td>\n",
              "      <td>20</td>\n",
              "      <td>10</td>\n",
              "      <td>outra</td>\n",
              "    </tr>\n",
              "    <tr>\n",
              "      <th>4</th>\n",
              "      <td>5</td>\n",
              "      <td>solteiro</td>\n",
              "      <td>ensino fundamental</td>\n",
              "      <td>NaN</td>\n",
              "      <td>6.26</td>\n",
              "      <td>40</td>\n",
              "      <td>7</td>\n",
              "      <td>outra</td>\n",
              "    </tr>\n",
              "  </tbody>\n",
              "</table>\n",
              "</div>"
            ],
            "text/plain": [
              "   N Estado Civil   grau_de_instrução  ...  Anos  Meses    Regiao\n",
              "0  1     solteiro  ensino fundamental  ...    26      3  interior\n",
              "1  2       casado  ensino fundamental  ...    32     10   capital\n",
              "2  3       casado  ensino fundamental  ...    36      5   capital\n",
              "3  4     solteiro        ensino médio  ...    20     10     outra\n",
              "4  5     solteiro  ensino fundamental  ...    40      7     outra\n",
              "\n",
              "[5 rows x 8 columns]"
            ]
          },
          "metadata": {
            "tags": []
          },
          "execution_count": 18
        }
      ]
    },
    {
      "cell_type": "code",
      "metadata": {
        "colab": {
          "base_uri": "https://localhost:8080/",
          "height": 107
        },
        "id": "orBHHZf1omN7",
        "outputId": "5dd564e6-5562-4ae1-e17b-9789f5c47840"
      },
      "source": [
        "frequencia1=dados['Estado Civil'].value_counts()\r\n",
        "percentual1=dados['Estado Civil'].value_counts(normalize=True)*100\r\n",
        "EstadoCivil=pd.DataFrame({'Frequencia':frequencia1,'Percentual':round(percentual1,2)})\r\n",
        "EstadoCivil"
      ],
      "execution_count": null,
      "outputs": [
        {
          "output_type": "execute_result",
          "data": {
            "text/html": [
              "<div>\n",
              "<style scoped>\n",
              "    .dataframe tbody tr th:only-of-type {\n",
              "        vertical-align: middle;\n",
              "    }\n",
              "\n",
              "    .dataframe tbody tr th {\n",
              "        vertical-align: top;\n",
              "    }\n",
              "\n",
              "    .dataframe thead th {\n",
              "        text-align: right;\n",
              "    }\n",
              "</style>\n",
              "<table border=\"1\" class=\"dataframe\">\n",
              "  <thead>\n",
              "    <tr style=\"text-align: right;\">\n",
              "      <th></th>\n",
              "      <th>Frequencia</th>\n",
              "      <th>Percentual</th>\n",
              "    </tr>\n",
              "  </thead>\n",
              "  <tbody>\n",
              "    <tr>\n",
              "      <th>casado</th>\n",
              "      <td>20</td>\n",
              "      <td>55.56</td>\n",
              "    </tr>\n",
              "    <tr>\n",
              "      <th>solteiro</th>\n",
              "      <td>16</td>\n",
              "      <td>44.44</td>\n",
              "    </tr>\n",
              "  </tbody>\n",
              "</table>\n",
              "</div>"
            ],
            "text/plain": [
              "          Frequencia  Percentual\n",
              "casado            20       55.56\n",
              "solteiro          16       44.44"
            ]
          },
          "metadata": {
            "tags": []
          },
          "execution_count": 19
        }
      ]
    },
    {
      "cell_type": "code",
      "metadata": {
        "colab": {
          "base_uri": "https://localhost:8080/",
          "height": 137
        },
        "id": "avfR38MIpGXL",
        "outputId": "99f1cb3f-20ef-490a-e139-8a7afb904dd7"
      },
      "source": [
        "frequencia2=dados['Regiao'].value_counts()\r\n",
        "percentual2=dados['Regiao'].value_counts(normalize=True)\r\n",
        "RegiaodeProcedencia=pd.DataFrame({'Frequencia':frequencia2,'Percentual':round(percentual2,2)})\r\n",
        "RegiaodeProcedencia"
      ],
      "execution_count": null,
      "outputs": [
        {
          "output_type": "execute_result",
          "data": {
            "text/html": [
              "<div>\n",
              "<style scoped>\n",
              "    .dataframe tbody tr th:only-of-type {\n",
              "        vertical-align: middle;\n",
              "    }\n",
              "\n",
              "    .dataframe tbody tr th {\n",
              "        vertical-align: top;\n",
              "    }\n",
              "\n",
              "    .dataframe thead th {\n",
              "        text-align: right;\n",
              "    }\n",
              "</style>\n",
              "<table border=\"1\" class=\"dataframe\">\n",
              "  <thead>\n",
              "    <tr style=\"text-align: right;\">\n",
              "      <th></th>\n",
              "      <th>Frequencia</th>\n",
              "      <th>Percentual</th>\n",
              "    </tr>\n",
              "  </thead>\n",
              "  <tbody>\n",
              "    <tr>\n",
              "      <th>outra</th>\n",
              "      <td>13</td>\n",
              "      <td>0.36</td>\n",
              "    </tr>\n",
              "    <tr>\n",
              "      <th>interior</th>\n",
              "      <td>12</td>\n",
              "      <td>0.33</td>\n",
              "    </tr>\n",
              "    <tr>\n",
              "      <th>capital</th>\n",
              "      <td>11</td>\n",
              "      <td>0.31</td>\n",
              "    </tr>\n",
              "  </tbody>\n",
              "</table>\n",
              "</div>"
            ],
            "text/plain": [
              "          Frequencia  Percentual\n",
              "outra             13        0.36\n",
              "interior          12        0.33\n",
              "capital           11        0.31"
            ]
          },
          "metadata": {
            "tags": []
          },
          "execution_count": 20
        }
      ]
    },
    {
      "cell_type": "code",
      "metadata": {
        "colab": {
          "base_uri": "https://localhost:8080/",
          "height": 197
        },
        "id": "gFLzd6pFqNv1",
        "outputId": "2ce7550a-721f-4922-a995-80593148cf19"
      },
      "source": [
        "serie=dados['Estado Civil']=='casado'\r\n",
        "dados3=dados[serie]\r\n",
        "\r\n",
        "frequencia3=dados3['N de Filhos'].value_counts()\r\n",
        "percentual3=dados3['N de Filhos'].value_counts(normalize=True)\r\n",
        "NdeFilhos=pd.DataFrame({'Frequencia':frequencia3,'Percentual':round(percentual3,2)})\r\n",
        "NdeFilhos.rename_axis(\"NdeFilhos\",axis=\"columns\",inplace=True)\r\n",
        "\r\n",
        "NdeFilhos\r\n"
      ],
      "execution_count": null,
      "outputs": [
        {
          "output_type": "execute_result",
          "data": {
            "text/html": [
              "<div>\n",
              "<style scoped>\n",
              "    .dataframe tbody tr th:only-of-type {\n",
              "        vertical-align: middle;\n",
              "    }\n",
              "\n",
              "    .dataframe tbody tr th {\n",
              "        vertical-align: top;\n",
              "    }\n",
              "\n",
              "    .dataframe thead th {\n",
              "        text-align: right;\n",
              "    }\n",
              "</style>\n",
              "<table border=\"1\" class=\"dataframe\">\n",
              "  <thead>\n",
              "    <tr style=\"text-align: right;\">\n",
              "      <th>NdeFilhos</th>\n",
              "      <th>Frequencia</th>\n",
              "      <th>Percentual</th>\n",
              "    </tr>\n",
              "  </thead>\n",
              "  <tbody>\n",
              "    <tr>\n",
              "      <th>2.0</th>\n",
              "      <td>7</td>\n",
              "      <td>0.35</td>\n",
              "    </tr>\n",
              "    <tr>\n",
              "      <th>1.0</th>\n",
              "      <td>5</td>\n",
              "      <td>0.25</td>\n",
              "    </tr>\n",
              "    <tr>\n",
              "      <th>0.0</th>\n",
              "      <td>4</td>\n",
              "      <td>0.20</td>\n",
              "    </tr>\n",
              "    <tr>\n",
              "      <th>3.0</th>\n",
              "      <td>3</td>\n",
              "      <td>0.15</td>\n",
              "    </tr>\n",
              "    <tr>\n",
              "      <th>5.0</th>\n",
              "      <td>1</td>\n",
              "      <td>0.05</td>\n",
              "    </tr>\n",
              "  </tbody>\n",
              "</table>\n",
              "</div>"
            ],
            "text/plain": [
              "NdeFilhos  Frequencia  Percentual\n",
              "2.0                 7        0.35\n",
              "1.0                 5        0.25\n",
              "0.0                 4        0.20\n",
              "3.0                 3        0.15\n",
              "5.0                 1        0.05"
            ]
          },
          "metadata": {
            "tags": []
          },
          "execution_count": 21
        }
      ]
    },
    {
      "cell_type": "code",
      "metadata": {
        "colab": {
          "base_uri": "https://localhost:8080/",
          "height": 137
        },
        "id": "aXC3N-F9rnLr",
        "outputId": "137312bd-3aa4-4221-aa1f-bc1e8b256050"
      },
      "source": [
        "# frequencia4=dados['Anos'].value_counts()\r\n",
        "# percentual4=dados['Anos'].value_counts(normalize=True)\r\n",
        "# Idade=pd.DataFrame({'Frequencia':frequencia4,'Percentual':round(percentual4,2)})\r\n",
        "# Idade\r\n",
        "\r\n",
        "# pd.cut(x=dados.Renda,\r\n",
        "#                        bins=k,\r\n",
        "#                        include_lowest=True)\r\n",
        "\r\n",
        "\r\n",
        "frequencia4=pd.value_counts(pd.cut(x=dados.Anos,bins=3,include_lowest=True)).sort_index()\r\n",
        "percentual4=round(pd.value_counts(pd.cut(x=dados.Anos,bins=3,include_lowest=True),normalize=True).sort_index(),2)\r\n",
        "\r\n",
        "Idades=pd.DataFrame({\"Frequencia\":frequencia4,\"Percentual\":percentual4})\r\n",
        "Idades"
      ],
      "execution_count": null,
      "outputs": [
        {
          "output_type": "execute_result",
          "data": {
            "text/html": [
              "<div>\n",
              "<style scoped>\n",
              "    .dataframe tbody tr th:only-of-type {\n",
              "        vertical-align: middle;\n",
              "    }\n",
              "\n",
              "    .dataframe tbody tr th {\n",
              "        vertical-align: top;\n",
              "    }\n",
              "\n",
              "    .dataframe thead th {\n",
              "        text-align: right;\n",
              "    }\n",
              "</style>\n",
              "<table border=\"1\" class=\"dataframe\">\n",
              "  <thead>\n",
              "    <tr style=\"text-align: right;\">\n",
              "      <th></th>\n",
              "      <th>Frequencia</th>\n",
              "      <th>Percentual</th>\n",
              "    </tr>\n",
              "  </thead>\n",
              "  <tbody>\n",
              "    <tr>\n",
              "      <th>(19.971, 29.333]</th>\n",
              "      <td>8</td>\n",
              "      <td>0.22</td>\n",
              "    </tr>\n",
              "    <tr>\n",
              "      <th>(29.333, 38.667]</th>\n",
              "      <td>17</td>\n",
              "      <td>0.47</td>\n",
              "    </tr>\n",
              "    <tr>\n",
              "      <th>(38.667, 48.0]</th>\n",
              "      <td>11</td>\n",
              "      <td>0.31</td>\n",
              "    </tr>\n",
              "  </tbody>\n",
              "</table>\n",
              "</div>"
            ],
            "text/plain": [
              "                  Frequencia  Percentual\n",
              "(19.971, 29.333]           8        0.22\n",
              "(29.333, 38.667]          17        0.47\n",
              "(38.667, 48.0]            11        0.31"
            ]
          },
          "metadata": {
            "tags": []
          },
          "execution_count": 22
        }
      ]
    },
    {
      "cell_type": "code",
      "metadata": {
        "colab": {
          "base_uri": "https://localhost:8080/",
          "height": 857
        },
        "id": "sC_42El9tQZl",
        "outputId": "7c2d3bf9-8156-4424-f3c6-d21107a93324"
      },
      "source": [
        "dados2=pd.read_excel(\"/content/drive/My Drive/Dados_livro_estatistica_basica.xlsx\",'CD-Brasil',header=4)\r\n",
        "#Alterando o nome das variáveis\r\n",
        "dados2.rename(columns={'Unnamed: 0': 'Região', 'Unnamed: 1': 'Estado'}, inplace=True)\r\n",
        "\r\n",
        "serie2=(dados2['Estado']!='Subtot') & (dados2['Estado']!='Total')\r\n",
        "\r\n",
        "dados2=dados2[serie2]\r\n",
        "dados2"
      ],
      "execution_count": null,
      "outputs": [
        {
          "output_type": "execute_result",
          "data": {
            "text/html": [
              "<div>\n",
              "<style scoped>\n",
              "    .dataframe tbody tr th:only-of-type {\n",
              "        vertical-align: middle;\n",
              "    }\n",
              "\n",
              "    .dataframe tbody tr th {\n",
              "        vertical-align: top;\n",
              "    }\n",
              "\n",
              "    .dataframe thead th {\n",
              "        text-align: right;\n",
              "    }\n",
              "</style>\n",
              "<table border=\"1\" class=\"dataframe\">\n",
              "  <thead>\n",
              "    <tr style=\"text-align: right;\">\n",
              "      <th></th>\n",
              "      <th>Região</th>\n",
              "      <th>Estado</th>\n",
              "      <th>Superfície</th>\n",
              "      <th>População</th>\n",
              "      <th>Densidade</th>\n",
              "    </tr>\n",
              "  </thead>\n",
              "  <tbody>\n",
              "    <tr>\n",
              "      <th>0</th>\n",
              "      <td>Norte</td>\n",
              "      <td>RO</td>\n",
              "      <td>237576.167</td>\n",
              "      <td>1453756</td>\n",
              "      <td>6.119115</td>\n",
              "    </tr>\n",
              "    <tr>\n",
              "      <th>1</th>\n",
              "      <td>NaN</td>\n",
              "      <td>AC</td>\n",
              "      <td>164165.250</td>\n",
              "      <td>653385</td>\n",
              "      <td>3.980044</td>\n",
              "    </tr>\n",
              "    <tr>\n",
              "      <th>2</th>\n",
              "      <td>NaN</td>\n",
              "      <td>AM</td>\n",
              "      <td>1559161.810</td>\n",
              "      <td>3221940</td>\n",
              "      <td>2.066456</td>\n",
              "    </tr>\n",
              "    <tr>\n",
              "      <th>3</th>\n",
              "      <td>NaN</td>\n",
              "      <td>RR</td>\n",
              "      <td>224298.980</td>\n",
              "      <td>395725</td>\n",
              "      <td>1.764275</td>\n",
              "    </tr>\n",
              "    <tr>\n",
              "      <th>4</th>\n",
              "      <td>NaN</td>\n",
              "      <td>PA</td>\n",
              "      <td>1247689.515</td>\n",
              "      <td>7065573</td>\n",
              "      <td>5.662926</td>\n",
              "    </tr>\n",
              "    <tr>\n",
              "      <th>5</th>\n",
              "      <td>NaN</td>\n",
              "      <td>AP</td>\n",
              "      <td>142814.585</td>\n",
              "      <td>587311</td>\n",
              "      <td>4.112402</td>\n",
              "    </tr>\n",
              "    <tr>\n",
              "      <th>6</th>\n",
              "      <td>NaN</td>\n",
              "      <td>TO</td>\n",
              "      <td>277620.914</td>\n",
              "      <td>1243627</td>\n",
              "      <td>4.479587</td>\n",
              "    </tr>\n",
              "    <tr>\n",
              "      <th>8</th>\n",
              "      <td>Nordeste</td>\n",
              "      <td>MA</td>\n",
              "      <td>331983.293</td>\n",
              "      <td>6118995</td>\n",
              "      <td>18.431635</td>\n",
              "    </tr>\n",
              "    <tr>\n",
              "      <th>9</th>\n",
              "      <td>NaN</td>\n",
              "      <td>PI</td>\n",
              "      <td>251529.186</td>\n",
              "      <td>3032435</td>\n",
              "      <td>12.055997</td>\n",
              "    </tr>\n",
              "    <tr>\n",
              "      <th>10</th>\n",
              "      <td>NaN</td>\n",
              "      <td>CE</td>\n",
              "      <td>148825.602</td>\n",
              "      <td>8185250</td>\n",
              "      <td>54.998938</td>\n",
              "    </tr>\n",
              "    <tr>\n",
              "      <th>11</th>\n",
              "      <td>NaN</td>\n",
              "      <td>RN</td>\n",
              "      <td>52796.791</td>\n",
              "      <td>3013740</td>\n",
              "      <td>57.081878</td>\n",
              "    </tr>\n",
              "    <tr>\n",
              "      <th>12</th>\n",
              "      <td>NaN</td>\n",
              "      <td>PB</td>\n",
              "      <td>56439.838</td>\n",
              "      <td>3641397</td>\n",
              "      <td>64.518204</td>\n",
              "    </tr>\n",
              "    <tr>\n",
              "      <th>13</th>\n",
              "      <td>NaN</td>\n",
              "      <td>PE</td>\n",
              "      <td>98311.616</td>\n",
              "      <td>8486638</td>\n",
              "      <td>86.323858</td>\n",
              "    </tr>\n",
              "    <tr>\n",
              "      <th>14</th>\n",
              "      <td>NaN</td>\n",
              "      <td>AL</td>\n",
              "      <td>27767.661</td>\n",
              "      <td>3037231</td>\n",
              "      <td>109.380153</td>\n",
              "    </tr>\n",
              "    <tr>\n",
              "      <th>15</th>\n",
              "      <td>NaN</td>\n",
              "      <td>SE</td>\n",
              "      <td>21910.348</td>\n",
              "      <td>1939426</td>\n",
              "      <td>88.516440</td>\n",
              "    </tr>\n",
              "    <tr>\n",
              "      <th>16</th>\n",
              "      <td>NaN</td>\n",
              "      <td>BA</td>\n",
              "      <td>564692.669</td>\n",
              "      <td>14080670</td>\n",
              "      <td>24.935103</td>\n",
              "    </tr>\n",
              "    <tr>\n",
              "      <th>18</th>\n",
              "      <td>Sudeste</td>\n",
              "      <td>MG</td>\n",
              "      <td>586528.293</td>\n",
              "      <td>19273533</td>\n",
              "      <td>32.860364</td>\n",
              "    </tr>\n",
              "    <tr>\n",
              "      <th>19</th>\n",
              "      <td>NaN</td>\n",
              "      <td>ES</td>\n",
              "      <td>46077.519</td>\n",
              "      <td>3351669</td>\n",
              "      <td>72.739789</td>\n",
              "    </tr>\n",
              "    <tr>\n",
              "      <th>20</th>\n",
              "      <td>NaN</td>\n",
              "      <td>RJ</td>\n",
              "      <td>43696.054</td>\n",
              "      <td>15420450</td>\n",
              "      <td>352.902576</td>\n",
              "    </tr>\n",
              "    <tr>\n",
              "      <th>21</th>\n",
              "      <td>NaN</td>\n",
              "      <td>SP</td>\n",
              "      <td>248209.426</td>\n",
              "      <td>39827690</td>\n",
              "      <td>160.460022</td>\n",
              "    </tr>\n",
              "    <tr>\n",
              "      <th>23</th>\n",
              "      <td>Sul</td>\n",
              "      <td>PR</td>\n",
              "      <td>199314.850</td>\n",
              "      <td>10284503</td>\n",
              "      <td>51.599281</td>\n",
              "    </tr>\n",
              "    <tr>\n",
              "      <th>24</th>\n",
              "      <td>NaN</td>\n",
              "      <td>SC</td>\n",
              "      <td>95346.181</td>\n",
              "      <td>5866487</td>\n",
              "      <td>61.528285</td>\n",
              "    </tr>\n",
              "    <tr>\n",
              "      <th>25</th>\n",
              "      <td>NaN</td>\n",
              "      <td>RS</td>\n",
              "      <td>281748.583</td>\n",
              "      <td>10582287</td>\n",
              "      <td>37.559326</td>\n",
              "    </tr>\n",
              "    <tr>\n",
              "      <th>27</th>\n",
              "      <td>Centro-Oeste</td>\n",
              "      <td>MS</td>\n",
              "      <td>357124.962</td>\n",
              "      <td>2265813</td>\n",
              "      <td>6.344594</td>\n",
              "    </tr>\n",
              "    <tr>\n",
              "      <th>28</th>\n",
              "      <td>NaN</td>\n",
              "      <td>MT</td>\n",
              "      <td>903357.908</td>\n",
              "      <td>2854642</td>\n",
              "      <td>3.160034</td>\n",
              "    </tr>\n",
              "    <tr>\n",
              "      <th>29</th>\n",
              "      <td>NaN</td>\n",
              "      <td>GO</td>\n",
              "      <td>340086.698</td>\n",
              "      <td>5647035</td>\n",
              "      <td>16.604692</td>\n",
              "    </tr>\n",
              "    <tr>\n",
              "      <th>30</th>\n",
              "      <td>NaN</td>\n",
              "      <td>DF</td>\n",
              "      <td>5801.937</td>\n",
              "      <td>2455903</td>\n",
              "      <td>423.290187</td>\n",
              "    </tr>\n",
              "  </tbody>\n",
              "</table>\n",
              "</div>"
            ],
            "text/plain": [
              "          Região Estado   Superfície  População   Densidade\n",
              "0          Norte     RO   237576.167    1453756    6.119115\n",
              "1            NaN     AC   164165.250     653385    3.980044\n",
              "2            NaN     AM  1559161.810    3221940    2.066456\n",
              "3            NaN     RR   224298.980     395725    1.764275\n",
              "4            NaN     PA  1247689.515    7065573    5.662926\n",
              "5            NaN     AP   142814.585     587311    4.112402\n",
              "6            NaN     TO   277620.914    1243627    4.479587\n",
              "8       Nordeste     MA   331983.293    6118995   18.431635\n",
              "9            NaN     PI   251529.186    3032435   12.055997\n",
              "10           NaN     CE   148825.602    8185250   54.998938\n",
              "11           NaN     RN    52796.791    3013740   57.081878\n",
              "12           NaN     PB    56439.838    3641397   64.518204\n",
              "13           NaN     PE    98311.616    8486638   86.323858\n",
              "14           NaN     AL    27767.661    3037231  109.380153\n",
              "15           NaN     SE    21910.348    1939426   88.516440\n",
              "16           NaN     BA   564692.669   14080670   24.935103\n",
              "18       Sudeste     MG   586528.293   19273533   32.860364\n",
              "19           NaN     ES    46077.519    3351669   72.739789\n",
              "20           NaN     RJ    43696.054   15420450  352.902576\n",
              "21           NaN     SP   248209.426   39827690  160.460022\n",
              "23           Sul     PR   199314.850   10284503   51.599281\n",
              "24           NaN     SC    95346.181    5866487   61.528285\n",
              "25           NaN     RS   281748.583   10582287   37.559326\n",
              "27  Centro-Oeste     MS   357124.962    2265813    6.344594\n",
              "28           NaN     MT   903357.908    2854642    3.160034\n",
              "29           NaN     GO   340086.698    5647035   16.604692\n",
              "30           NaN     DF     5801.937    2455903  423.290187"
            ]
          },
          "metadata": {
            "tags": []
          },
          "execution_count": 23
        }
      ]
    },
    {
      "cell_type": "code",
      "metadata": {
        "colab": {
          "base_uri": "https://localhost:8080/",
          "height": 197
        },
        "id": "S_KlKkakv7rs",
        "outputId": "f927869c-2694-49ec-b641-2ad457bfe370"
      },
      "source": [
        "faixa=[dados2.População.min(),1000000,5000000,10000000,20000000,dados2.População.max()]\r\n",
        "\r\n",
        "populacao=pd.value_counts(pd.cut(dados2.População,bins=faixa,include_lowest=True)).sort_index()\r\n",
        "populacaoPercentual=pd.value_counts(pd.cut(dados2.População,bins=faixa,include_lowest=True),normalize=True).sort_index()\r\n",
        "\r\n",
        "dist_populacao=pd.DataFrame({\"Frequencia\":populacao,\"Percentual\":populacaoPercentual})\r\n",
        "dist_populacao"
      ],
      "execution_count": null,
      "outputs": [
        {
          "output_type": "execute_result",
          "data": {
            "text/html": [
              "<div>\n",
              "<style scoped>\n",
              "    .dataframe tbody tr th:only-of-type {\n",
              "        vertical-align: middle;\n",
              "    }\n",
              "\n",
              "    .dataframe tbody tr th {\n",
              "        vertical-align: top;\n",
              "    }\n",
              "\n",
              "    .dataframe thead th {\n",
              "        text-align: right;\n",
              "    }\n",
              "</style>\n",
              "<table border=\"1\" class=\"dataframe\">\n",
              "  <thead>\n",
              "    <tr style=\"text-align: right;\">\n",
              "      <th></th>\n",
              "      <th>Frequencia</th>\n",
              "      <th>Percentual</th>\n",
              "    </tr>\n",
              "  </thead>\n",
              "  <tbody>\n",
              "    <tr>\n",
              "      <th>(395724.999, 1000000.0]</th>\n",
              "      <td>3</td>\n",
              "      <td>0.111111</td>\n",
              "    </tr>\n",
              "    <tr>\n",
              "      <th>(1000000.0, 5000000.0]</th>\n",
              "      <td>12</td>\n",
              "      <td>0.444444</td>\n",
              "    </tr>\n",
              "    <tr>\n",
              "      <th>(5000000.0, 10000000.0]</th>\n",
              "      <td>6</td>\n",
              "      <td>0.222222</td>\n",
              "    </tr>\n",
              "    <tr>\n",
              "      <th>(10000000.0, 20000000.0]</th>\n",
              "      <td>5</td>\n",
              "      <td>0.185185</td>\n",
              "    </tr>\n",
              "    <tr>\n",
              "      <th>(20000000.0, 39827690.0]</th>\n",
              "      <td>1</td>\n",
              "      <td>0.037037</td>\n",
              "    </tr>\n",
              "  </tbody>\n",
              "</table>\n",
              "</div>"
            ],
            "text/plain": [
              "                          Frequencia  Percentual\n",
              "(395724.999, 1000000.0]            3    0.111111\n",
              "(1000000.0, 5000000.0]            12    0.444444\n",
              "(5000000.0, 10000000.0]            6    0.222222\n",
              "(10000000.0, 20000000.0]           5    0.185185\n",
              "(20000000.0, 39827690.0]           1    0.037037"
            ]
          },
          "metadata": {
            "tags": []
          },
          "execution_count": 24
        }
      ]
    },
    {
      "cell_type": "code",
      "metadata": {
        "colab": {
          "base_uri": "https://localhost:8080/",
          "height": 197
        },
        "id": "m60Yg_ehxUp6",
        "outputId": "0e9e006c-c38a-45d6-ff8e-bf4b437687af"
      },
      "source": [
        "faixa2=[dados2.Densidade.min(),10,30,50,100,dados2.Densidade.max()]\r\n",
        "\r\n",
        "densidade=pd.value_counts(pd.cut(dados2.Densidade,bins=faixa2,include_lowest=True))\r\n",
        "densidade=pd.value_counts(pd.cut(dados2.Densidade,bins=faixa2,include_lowest=True))\r\n",
        "densidadePercentual=pd.value_counts(pd.cut(dados2.Densidade,bins=faixa2,include_lowest=True),normalize=True)\r\n",
        "\r\n",
        "dist_densidade_populacao=pd.DataFrame({\"Frequencia\":densidade,\"Percentual\":densidadePercentual})\r\n",
        "# dist_densidade_populacao.value_counts()\r\n",
        "dist_densidade_populacao"
      ],
      "execution_count": null,
      "outputs": [
        {
          "output_type": "execute_result",
          "data": {
            "text/html": [
              "<div>\n",
              "<style scoped>\n",
              "    .dataframe tbody tr th:only-of-type {\n",
              "        vertical-align: middle;\n",
              "    }\n",
              "\n",
              "    .dataframe tbody tr th {\n",
              "        vertical-align: top;\n",
              "    }\n",
              "\n",
              "    .dataframe thead th {\n",
              "        text-align: right;\n",
              "    }\n",
              "</style>\n",
              "<table border=\"1\" class=\"dataframe\">\n",
              "  <thead>\n",
              "    <tr style=\"text-align: right;\">\n",
              "      <th></th>\n",
              "      <th>Frequencia</th>\n",
              "      <th>Percentual</th>\n",
              "    </tr>\n",
              "  </thead>\n",
              "  <tbody>\n",
              "    <tr>\n",
              "      <th>(1.7630000000000001, 10.0]</th>\n",
              "      <td>9</td>\n",
              "      <td>0.333333</td>\n",
              "    </tr>\n",
              "    <tr>\n",
              "      <th>(50.0, 100.0]</th>\n",
              "      <td>8</td>\n",
              "      <td>0.296296</td>\n",
              "    </tr>\n",
              "    <tr>\n",
              "      <th>(100.0, 423.29]</th>\n",
              "      <td>4</td>\n",
              "      <td>0.148148</td>\n",
              "    </tr>\n",
              "    <tr>\n",
              "      <th>(10.0, 30.0]</th>\n",
              "      <td>4</td>\n",
              "      <td>0.148148</td>\n",
              "    </tr>\n",
              "    <tr>\n",
              "      <th>(30.0, 50.0]</th>\n",
              "      <td>2</td>\n",
              "      <td>0.074074</td>\n",
              "    </tr>\n",
              "  </tbody>\n",
              "</table>\n",
              "</div>"
            ],
            "text/plain": [
              "                            Frequencia  Percentual\n",
              "(1.7630000000000001, 10.0]           9    0.333333\n",
              "(50.0, 100.0]                        8    0.296296\n",
              "(100.0, 423.29]                      4    0.148148\n",
              "(10.0, 30.0]                         4    0.148148\n",
              "(30.0, 50.0]                         2    0.074074"
            ]
          },
          "metadata": {
            "tags": []
          },
          "execution_count": 25
        }
      ]
    },
    {
      "cell_type": "code",
      "metadata": {
        "colab": {
          "base_uri": "https://localhost:8080/",
          "height": 280
        },
        "id": "kd5wCg0P1nln",
        "outputId": "0d632380-0bbb-45c7-a0e8-024adc20c893"
      },
      "source": [
        "grafico=sns.histplot(data=dados,x=dados['grau_de_instrução'])"
      ],
      "execution_count": null,
      "outputs": [
        {
          "output_type": "display_data",
          "data": {
            "image/png": "[encoded data removed]",
            "text/plain": [
              "<Figure size 432x288 with 1 Axes>"
            ]
          },
          "metadata": {
            "tags": [],
            "needs_background": "light"
          }
        }
      ]
    },
    {
      "cell_type": "code",
      "metadata": {
        "colab": {
          "base_uri": "https://localhost:8080/",
          "height": 267
        },
        "id": "eKW6a2qdcwM6",
        "outputId": "eb2bf223-dd28-44f2-8390-d3ea0b6631e7"
      },
      "source": [
        "notas=pd.read_excel(\"/content/drive/My Drive/Dados_livro_estatistica_basica.xlsx\",'CD-Notas1',header=2)\r\n",
        "\r\n",
        "notas.rename_axis('#',axis= 'columns',inplace=True)\r\n",
        "notas.rename(columns={'Fonte: Autores': 'notas'},inplace=True)\r\n",
        "# NdeFilhos.rename_axis(\"NdeFilhos\",axis=\"columns\",inplace=True)\r\n",
        "\r\n",
        "grafico_notas=sns.histplot(data=notas,bins=9)"
      ],
      "execution_count": null,
      "outputs": [
        {
          "output_type": "display_data",
          "data": {
            "image/png": "[encoded data removed]",
            "text/plain": [
              "<Figure size 432x288 with 1 Axes>"
            ]
          },
          "metadata": {
            "tags": [],
            "needs_background": "light"
          }
        }
      ]
    },
    {
      "cell_type": "markdown",
      "metadata": {
        "id": "s4wHh_2YPruw"
      },
      "source": [
        "Calculando posições de decis e quartis\r\n"
      ]
    },
    {
      "cell_type": "code",
      "metadata": {
        "id": "_RTxYzP1Ibgh",
        "colab": {
          "base_uri": "https://localhost:8080/",
          "height": 197
        },
        "outputId": "c8b12b0b-ad29-49fa-a449-252ba9b0fa29"
      },
      "source": [
        "dados2.head()\r\n",
        "# primeiro_decil=dados2.População.quantile(0.1)\r\n",
        "# primeiro_quartil=dados2.População.quantile(0.25)\r\n",
        "# segundo_quartil=dados2.População.quantile(0.5)\r\n",
        "# terceiro_quartil=dados2.População.quantile(0.75)\r\n",
        "# oitavo_decil=dados2.População.quantile(0.8)\r\n"
      ],
      "execution_count": null,
      "outputs": [
        {
          "output_type": "execute_result",
          "data": {
            "text/html": [
              "<div>\n",
              "<style scoped>\n",
              "    .dataframe tbody tr th:only-of-type {\n",
              "        vertical-align: middle;\n",
              "    }\n",
              "\n",
              "    .dataframe tbody tr th {\n",
              "        vertical-align: top;\n",
              "    }\n",
              "\n",
              "    .dataframe thead th {\n",
              "        text-align: right;\n",
              "    }\n",
              "</style>\n",
              "<table border=\"1\" class=\"dataframe\">\n",
              "  <thead>\n",
              "    <tr style=\"text-align: right;\">\n",
              "      <th></th>\n",
              "      <th>Região</th>\n",
              "      <th>Estado</th>\n",
              "      <th>Superfície</th>\n",
              "      <th>População</th>\n",
              "      <th>Densidade</th>\n",
              "    </tr>\n",
              "  </thead>\n",
              "  <tbody>\n",
              "    <tr>\n",
              "      <th>0</th>\n",
              "      <td>Norte</td>\n",
              "      <td>RO</td>\n",
              "      <td>237576.167</td>\n",
              "      <td>1453756</td>\n",
              "      <td>6.119115</td>\n",
              "    </tr>\n",
              "    <tr>\n",
              "      <th>1</th>\n",
              "      <td>NaN</td>\n",
              "      <td>AC</td>\n",
              "      <td>164165.250</td>\n",
              "      <td>653385</td>\n",
              "      <td>3.980044</td>\n",
              "    </tr>\n",
              "    <tr>\n",
              "      <th>2</th>\n",
              "      <td>NaN</td>\n",
              "      <td>AM</td>\n",
              "      <td>1559161.810</td>\n",
              "      <td>3221940</td>\n",
              "      <td>2.066456</td>\n",
              "    </tr>\n",
              "    <tr>\n",
              "      <th>3</th>\n",
              "      <td>NaN</td>\n",
              "      <td>RR</td>\n",
              "      <td>224298.980</td>\n",
              "      <td>395725</td>\n",
              "      <td>1.764275</td>\n",
              "    </tr>\n",
              "    <tr>\n",
              "      <th>4</th>\n",
              "      <td>NaN</td>\n",
              "      <td>PA</td>\n",
              "      <td>1247689.515</td>\n",
              "      <td>7065573</td>\n",
              "      <td>5.662926</td>\n",
              "    </tr>\n",
              "  </tbody>\n",
              "</table>\n",
              "</div>"
            ],
            "text/plain": [
              "  Região Estado   Superfície  População  Densidade\n",
              "0  Norte     RO   237576.167    1453756   6.119115\n",
              "1    NaN     AC   164165.250     653385   3.980044\n",
              "2    NaN     AM  1559161.810    3221940   2.066456\n",
              "3    NaN     RR   224298.980     395725   1.764275\n",
              "4    NaN     PA  1247689.515    7065573   5.662926"
            ]
          },
          "metadata": {
            "tags": []
          },
          "execution_count": 28
        }
      ]
    },
    {
      "cell_type": "code",
      "metadata": {
        "id": "8omls1lyNn6a",
        "colab": {
          "base_uri": "https://localhost:8080/",
          "height": 404
        },
        "outputId": "2ec9097c-fdf7-4305-ae5b-7f71d967e73a"
      },
      "source": [
        "boxplot1=sns.boxplot(data=dados2,x=dados2.População,orient='h')\r\n",
        "boxplot1.set_title(\"Dispersão da população por estado\")\r\n",
        "boxplot1.figure.set_size_inches(12,6)"
      ],
      "execution_count": null,
      "outputs": [
        {
          "output_type": "display_data",
          "data": {
            "image/png": "[encoded data removed]",
            "text/plain": [
              "<Figure size 864x432 with 1 Axes>"
            ]
          },
          "metadata": {
            "tags": [],
            "needs_background": "light"
          }
        }
      ]
    },
    {
      "cell_type": "code",
      "metadata": {
        "id": "FS8Ax7rBbX-w",
        "colab": {
          "base_uri": "https://localhost:8080/",
          "height": 310
        },
        "outputId": "c8f89cfc-1111-42bb-ff48-efd80957145c"
      },
      "source": [
        "boxplot2=sns.boxplot(data=dados,x=dados.Salario,orient='h')\r\n",
        "#dados.head()"
      ],
      "execution_count": null,
      "outputs": [
        {
          "output_type": "error",
          "ename": "AttributeError",
          "evalue": "ignored",
          "traceback": [
            "\u001b[0;31m---------------------------------------------------------------------------\u001b[0m",
            "\u001b[0;31mAttributeError\u001b[0m                            Traceback (most recent call last)",
            "\u001b[0;32m<ipython-input-30-31dca265de51>\u001b[0m in \u001b[0;36m<module>\u001b[0;34m()\u001b[0m\n\u001b[0;32m----> 1\u001b[0;31m \u001b[0mboxplot2\u001b[0m\u001b[0;34m=\u001b[0m\u001b[0msns\u001b[0m\u001b[0;34m.\u001b[0m\u001b[0mboxplot\u001b[0m\u001b[0;34m(\u001b[0m\u001b[0mdata\u001b[0m\u001b[0;34m=\u001b[0m\u001b[0mdados\u001b[0m\u001b[0;34m,\u001b[0m\u001b[0mx\u001b[0m\u001b[0;34m=\u001b[0m\u001b[0mdados\u001b[0m\u001b[0;34m.\u001b[0m\u001b[0mSalario\u001b[0m\u001b[0;34m,\u001b[0m\u001b[0morient\u001b[0m\u001b[0;34m=\u001b[0m\u001b[0;34m'h'\u001b[0m\u001b[0;34m)\u001b[0m\u001b[0;34m\u001b[0m\u001b[0;34m\u001b[0m\u001b[0m\n\u001b[0m\u001b[1;32m      2\u001b[0m \u001b[0;31m#dados.head()\u001b[0m\u001b[0;34m\u001b[0m\u001b[0;34m\u001b[0m\u001b[0;34m\u001b[0m\u001b[0m\n",
            "\u001b[0;32m/usr/local/lib/python3.6/dist-packages/pandas/core/generic.py\u001b[0m in \u001b[0;36m__getattr__\u001b[0;34m(self, name)\u001b[0m\n\u001b[1;32m   5139\u001b[0m             \u001b[0;32mif\u001b[0m \u001b[0mself\u001b[0m\u001b[0;34m.\u001b[0m\u001b[0m_info_axis\u001b[0m\u001b[0;34m.\u001b[0m\u001b[0m_can_hold_identifiers_and_holds_name\u001b[0m\u001b[0;34m(\u001b[0m\u001b[0mname\u001b[0m\u001b[0;34m)\u001b[0m\u001b[0;34m:\u001b[0m\u001b[0;34m\u001b[0m\u001b[0;34m\u001b[0m\u001b[0m\n\u001b[1;32m   5140\u001b[0m                 \u001b[0;32mreturn\u001b[0m \u001b[0mself\u001b[0m\u001b[0;34m[\u001b[0m\u001b[0mname\u001b[0m\u001b[0;34m]\u001b[0m\u001b[0;34m\u001b[0m\u001b[0;34m\u001b[0m\u001b[0m\n\u001b[0;32m-> 5141\u001b[0;31m             \u001b[0;32mreturn\u001b[0m \u001b[0mobject\u001b[0m\u001b[0;34m.\u001b[0m\u001b[0m__getattribute__\u001b[0m\u001b[0;34m(\u001b[0m\u001b[0mself\u001b[0m\u001b[0;34m,\u001b[0m \u001b[0mname\u001b[0m\u001b[0;34m)\u001b[0m\u001b[0;34m\u001b[0m\u001b[0;34m\u001b[0m\u001b[0m\n\u001b[0m\u001b[1;32m   5142\u001b[0m \u001b[0;34m\u001b[0m\u001b[0m\n\u001b[1;32m   5143\u001b[0m     \u001b[0;32mdef\u001b[0m \u001b[0m__setattr__\u001b[0m\u001b[0;34m(\u001b[0m\u001b[0mself\u001b[0m\u001b[0;34m,\u001b[0m \u001b[0mname\u001b[0m\u001b[0;34m:\u001b[0m \u001b[0mstr\u001b[0m\u001b[0;34m,\u001b[0m \u001b[0mvalue\u001b[0m\u001b[0;34m)\u001b[0m \u001b[0;34m->\u001b[0m \u001b[0;32mNone\u001b[0m\u001b[0;34m:\u001b[0m\u001b[0;34m\u001b[0m\u001b[0;34m\u001b[0m\u001b[0m\n",
            "\u001b[0;31mAttributeError\u001b[0m: 'DataFrame' object has no attribute 'Salario'"
          ]
        }
      ]
    },
    {
      "cell_type": "code",
      "metadata": {
        "id": "DdU2-dSrfYHK"
      },
      "source": [
        "# calculando grau de assimetria \r\n",
        "#RESULTADO: Observamos que a distancia entre a mediana e os pontos situados antes dela é menor que a distancia entre mediana e os pontos posteriores\r\n",
        "# Ou sej,a observamos uma assimetria a esquerda\r\n",
        "\r\n",
        "mediana_salarios=dados.Salario.median()\r\n",
        "\r\n",
        "u=[]\r\n",
        "v=[]\r\n",
        "\r\n",
        "salarios_ordenados=dados.Salario.sort_values()\r\n",
        "\r\n",
        "for salario in salarios_ordenados:\r\n",
        "  diferença_mediana=abs(salario-mediana_salarios)\r\n",
        "\r\n",
        "  if salario<mediana_salarios:    \r\n",
        "    u.append(diferença_mediana)\r\n",
        "  else:\r\n",
        "    v.append(diferença_mediana)    \r\n",
        "\r\n",
        "v=sorted(v,reverse=True)\r\n",
        "\r\n",
        "lista_numeros1=[0,1,2,3,4,5,6,7,8,9,10,11,12,13,14,15,16,17]\r\n",
        "# lista_numeros2=[1,2,3,4,5,6,7,8,9,10,11,12,13,14,15,16,17,18]\r\n",
        "\r\n",
        "Df=pd.DataFrame({\"u\":u,\"v\":v,'ref1':lista_numeros1})\r\n",
        "\r\n",
        "plt.plot(lista_numeros1,lista_numeros1)\r\n",
        "plt.plot(Df.u,Df.v)"
      ],
      "execution_count": null,
      "outputs": []
    },
    {
      "cell_type": "code",
      "metadata": {
        "id": "kKvi5iRnlRi2"
      },
      "source": [
        "boxplot3=sns.boxplot(data=notas)"
      ],
      "execution_count": null,
      "outputs": []
    },
    {
      "cell_type": "markdown",
      "metadata": {
        "id": "-IWTBZfrUrjH"
      },
      "source": [
        "## Medidas de associação entre variáveis qualitativas"
      ]
    },
    {
      "cell_type": "markdown",
      "metadata": {
        "id": "r7E1hxeMUobK"
      },
      "source": [
        "De acordo com os dados vistos abaixo, que relacionam grau de escolaridade e região, é possível notar que não existe dependência entre os dados relacionados (variável não associadas). Isso se deve ao fato de que, normalmente, a população já apresenta o ensino médio com maior frequência para todas as regiões listadas.\r\n",
        "\r\n",
        "A frequencia de grau de instrução para cada região apresenta a mesma frequência, tendo todas as regiões um menor número de pessoas com ensino superior e um maior número com ensino médio. Por isso, podemos afirmar que o grau de instrução não depende exclusivamente da região da pessoa.\r\n",
        "\r\n",
        "Ou fator a ser observado é a probabilidade marginal de cada grau de instrução, que é reprodutivel - em termos numéricos - dentro de cada região"
      ]
    },
    {
      "cell_type": "code",
      "metadata": {
        "id": "U9_fATHfskPv"
      },
      "source": [
        "tabela1=round(pd.crosstab(dados.Regiao,dados.grau_de_instrução,margins=True,normalize='index',margins_name=\"Total\")*100)\r\n",
        "tabela1\r\n",
        "# aqui é possivel ver que a frequência do grau de instrução se repete nos dados marginais"
      ],
      "execution_count": null,
      "outputs": []
    },
    {
      "cell_type": "code",
      "metadata": {
        "id": "lW-ypYa5F8Sj"
      },
      "source": [
        "tabela2=round(pd.crosstab(dados.Regiao,dados.grau_de_instrução,margins=True,normalize='columns',margins_name=\"Total\")*100)\r\n",
        "tabela2"
      ],
      "execution_count": null,
      "outputs": []
    },
    {
      "cell_type": "code",
      "metadata": {
        "id": "trxb2JDV-B2_"
      },
      "source": [
        "exercicio9 = {'Menos de 4 meses': [64,104,27], 'De 4 a 8 meses': [120,175,48],'Mais de 8 meses':[16,21,5]}\r\n",
        "\r\n",
        "exercicio_9=pd.DataFrame(data=exercicio9,index=['A','B','C'])\r\n",
        "# exercicio9.rename(index={\"0\":'teste'},inplace=True)\r\n",
        "\r\n",
        "menos_4_meses=sum(exercicio9['Menos de 4 meses'])\r\n",
        "de_4_a_8_meses=sum(exercicio9['De 4 a 8 meses'])\r\n",
        "mais_de_8_meses=sum(exercicio9['Mais de 8 meses'])\r\n",
        "total=menos_4_meses+de_4_a_8_meses+mais_de_8_meses\r\n",
        "\r\n",
        "menos_de_4=[]\r\n",
        "de_4_a_8=[]\r\n",
        "mais_de_8=[]\r\n",
        "\r\n",
        "for numero in [64,104,27]:\r\n",
        "  i=numero/menos_4_meses\r\n",
        "  menos_de_4.append(i*100)\r\n",
        "menos_de_4.append(menos_4_meses*100/total)\r\n",
        "\r\n",
        "for numero in [120,175,48]:\r\n",
        "  i=numero/de_4_a_8_meses\r\n",
        "  de_4_a_8.append(i*100)\r\n",
        "de_4_a_8.append(de_4_a_8_meses*100/total)  \r\n",
        "\r\n",
        "for numero in [16,21,5]:\r\n",
        "  i=numero/mais_de_8_meses\r\n",
        "  mais_de_8.append(i*100)\r\n",
        "mais_de_8.append(mais_de_8_meses*100/total)  \r\n",
        "\r\n",
        "Total=[(64+120+16),(104+175+21),(27+48+5)]\r\n",
        "totalizado=sum(Total)\r\n",
        "Total=[round(i*100/totalizado,2) for i in Total]\r\n",
        "Total.append(totalizado)\r\n",
        "\r\n",
        "\r\n",
        "exercicio9 = {'Menos de 4 meses': menos_de_4, 'De 4 a 8 meses': de_4_a_8,'Mais de 8 meses':mais_de_8,'Total':Total}\r\n",
        "exercicio_9=pd.DataFrame(data=exercicio9,index=['A','B','C','Total'])\r\n",
        "\r\n",
        "exercicio_9"
      ],
      "execution_count": null,
      "outputs": []
    },
    {
      "cell_type": "markdown",
      "metadata": {
        "id": "ciko-Z---FKF"
      },
      "source": [
        "Para o exemplo acima, as compainhas A, B e C não possuem diferença significativa em termos de tempo de eficácia do tratamento. Nos três recortes de tempo, todas mantiveram sua fatia de participação muito próxima da média. "
      ]
    },
    {
      "cell_type": "markdown",
      "metadata": {
        "id": "87xkGESwif-I"
      },
      "source": [
        "## Cálculo de qui-quadrado de Pearson"
      ]
    },
    {
      "cell_type": "code",
      "metadata": {
        "id": "F4Ri7BZOISQo",
        "colab": {
          "base_uri": "https://localhost:8080/",
          "height": 167
        },
        "outputId": "6f2d5159-fcf2-4b4b-eaca-564b33c31829"
      },
      "source": [
        "tabela3=round(pd.crosstab(dados.Regiao,dados.grau_de_instrução,normalize='index')*100)\r\n",
        "tabela3\r\n",
        "\r\n"
      ],
      "execution_count": null,
      "outputs": [
        {
          "output_type": "execute_result",
          "data": {
            "text/html": [
              "<div>\n",
              "<style scoped>\n",
              "    .dataframe tbody tr th:only-of-type {\n",
              "        vertical-align: middle;\n",
              "    }\n",
              "\n",
              "    .dataframe tbody tr th {\n",
              "        vertical-align: top;\n",
              "    }\n",
              "\n",
              "    .dataframe thead th {\n",
              "        text-align: right;\n",
              "    }\n",
              "</style>\n",
              "<table border=\"1\" class=\"dataframe\">\n",
              "  <thead>\n",
              "    <tr style=\"text-align: right;\">\n",
              "      <th>grau_de_instrução</th>\n",
              "      <th>ensino fundamental</th>\n",
              "      <th>ensino médio</th>\n",
              "      <th>superior</th>\n",
              "    </tr>\n",
              "    <tr>\n",
              "      <th>Regiao</th>\n",
              "      <th></th>\n",
              "      <th></th>\n",
              "      <th></th>\n",
              "    </tr>\n",
              "  </thead>\n",
              "  <tbody>\n",
              "    <tr>\n",
              "      <th>capital</th>\n",
              "      <td>36.0</td>\n",
              "      <td>45.0</td>\n",
              "      <td>18.0</td>\n",
              "    </tr>\n",
              "    <tr>\n",
              "      <th>interior</th>\n",
              "      <td>25.0</td>\n",
              "      <td>58.0</td>\n",
              "      <td>17.0</td>\n",
              "    </tr>\n",
              "    <tr>\n",
              "      <th>outra</th>\n",
              "      <td>38.0</td>\n",
              "      <td>46.0</td>\n",
              "      <td>15.0</td>\n",
              "    </tr>\n",
              "  </tbody>\n",
              "</table>\n",
              "</div>"
            ],
            "text/plain": [
              "grau_de_instrução  ensino fundamental  ensino médio  superior\n",
              "Regiao                                                       \n",
              "capital                          36.0          45.0      18.0\n",
              "interior                         25.0          58.0      17.0\n",
              "outra                            38.0          46.0      15.0"
            ]
          },
          "metadata": {
            "tags": []
          },
          "execution_count": 150
        }
      ]
    },
    {
      "cell_type": "code",
      "metadata": {
        "colab": {
          "base_uri": "https://localhost:8080/"
        },
        "id": "ON2ljhrJivrC",
        "outputId": "99fef01a-e1a2-4f75-8ca7-e8930f20fdbf"
      },
      "source": [
        "total_fundamental=(round(dados.grau_de_instrução.value_counts(normalize=True),2)*100)[1]\r\n",
        "total_medio=(round(dados.grau_de_instrução.value_counts(normalize=True),2)*100)[0]\r\n",
        "total_superior=(round(dados.grau_de_instrução.value_counts(normalize=True),2)*100)[2]\r\n",
        "\r\n",
        "n=tabela3.shape[0]*tabela3.shape[1]\r\n",
        "lista_qui_quadrado=[]\r\n",
        "\r\n",
        "for numero in tabela3['ensino fundamental']:\r\n",
        "  desvio_relativo=((numero-total_fundamental)**2)/n\r\n",
        "  lista_qui_quadrado.append(desvio_relativo)\r\n",
        "\r\n",
        "for numero in tabela3['ensino médio']:\r\n",
        "  desvio_relativo=((numero-total_medio)**2)/n\r\n",
        "  lista_qui_quadrado.append(desvio_relativo)\r\n",
        "\r\n",
        "for numero in tabela3['superior']:\r\n",
        "  desvio_relativo=((numero-total_superior)**2)/n\r\n",
        "  lista_qui_quadrado.append(desvio_relativo)  \r\n",
        "\r\n",
        "qui_quadrado=round(sum(lista_qui_quadrado),2)\r\n",
        "qui_quadrado"
      ],
      "execution_count": null,
      "outputs": [
        {
          "output_type": "execute_result",
          "data": {
            "text/plain": [
              "23.11"
            ]
          },
          "metadata": {
            "tags": []
          },
          "execution_count": 139
        }
      ]
    },
    {
      "cell_type": "markdown",
      "metadata": {
        "id": "W2unXeiQi-Vw"
      },
      "source": [
        "Valor de qui-quadrado obtido acima é pequeno em relação aos exemplos indicados no livros. Assim, pode-se inferir que esses dados possuem uma menor associação entre as variaveis. Ou seja, para esse conjunto de dados, o grau de instrução depende pouco da região do funcionário.\r\n",
        "\r\n",
        "Quando maior o valor de qui-quadrado, mais o grau de associação entre as variáveis"
      ]
    },
    {
      "cell_type": "code",
      "metadata": {
        "colab": {
          "base_uri": "https://localhost:8080/"
        },
        "id": "S5BYv5f9cdXi",
        "outputId": "412ea124-e86c-4369-f6ec-e514fd3fc6c5"
      },
      "source": [
        "execicios_19={'Urbano':[30,60],'Suburbano':[35,25],'Rural':[35,15]}\r\n",
        "indice_19=['A favor','Contra']\r\n",
        "\r\n",
        "exercicios_19_tabela=pd.DataFrame(data=execicios_19,index=indice_19)\r\n",
        "\r\n",
        "exercicios_19_tabela\r\n",
        "exercicios_19_tabela.loc[:,'Total'] = exercicios_19_tabela.sum(numeric_only=True, axis=1)\r\n",
        "\r\n",
        "exercicios_19_tabela['Urbano_percentual']=exercicios_19_tabela['Urbano'].apply(lambda x: 100 * x / (exercicios_19_tabela['Urbano'].sum()))\r\n",
        "exercicios_19_tabela['Suburbano_percentual']=exercicios_19_tabela['Suburbano'].apply(lambda x: 100 * x / (exercicios_19_tabela['Suburbano'].sum()))\r\n",
        "exercicios_19_tabela['Rural_percentual']=exercicios_19_tabela['Rural'].apply(lambda x: 100 * x / (exercicios_19_tabela['Rural'].sum()))\r\n",
        "\r\n",
        "percentual_a_favor=50\r\n",
        "percentual_contra=percentual_a_favor\r\n",
        " \r\n",
        "lista_erro_qui_quadrado=[]\r\n",
        "\r\n",
        "for numero in exercicios_19_tabela['Suburbano_percentual']:\r\n",
        "  erro_normalizado=((numero-percentual_a_favor)**2)/percentual_a_favor\r\n",
        "  lista_erro_qui_quadrado.append(erro_normalizado)\r\n",
        "\r\n",
        "for numero in exercicios_19_tabela['Urbano_percentual']:\r\n",
        "  erro_normalizado=((numero-percentual_a_favor)**2)/percentual_a_favor\r\n",
        "  lista_erro_qui_quadrado.append(erro_normalizado)\r\n",
        "\r\n",
        "for numero in exercicios_19_tabela['Rural_percentual']:\r\n",
        "  erro_normalizado=((numero-percentual_a_favor)**2)/percentual_a_favor\r\n",
        "  lista_erro_qui_quadrado.append(erro_normalizado)    \r\n",
        "\r\n",
        "qui_quadrado_exercicio19=sum(lista_erro_qui_quadrado)\r\n",
        "\r\n",
        "qui_quadrado_exercicio19"
      ],
      "execution_count": null,
      "outputs": [
        {
          "output_type": "execute_result",
          "data": {
            "text/plain": [
              "29.888888888888893"
            ]
          },
          "metadata": {
            "tags": []
          },
          "execution_count": 174
        }
      ]
    },
    {
      "cell_type": "code",
      "metadata": {
        "colab": {
          "base_uri": "https://localhost:8080/"
        },
        "id": "Am4q8avhecE5",
        "outputId": "13756b10-ea98-4195-cbfb-28cfdf0003e6"
      },
      "source": [
        "  # total_urbano=exercicios_19_tabela.Urbano.sum()\r\n",
        "# total_suburbano=exercicios_19_tabela.Suburbano.sum()\r\n",
        "# total_rural=exercicios_19_tabela.Rural.sum()\r\n",
        "\r\n",
        "# n=exercicios_19_tabela.shape[0]*exercicios_19_tabela.shape[1]\r\n",
        "# lista_qui_quadrado_exercicios_19_tabela=[]\r\n",
        "\r\n",
        "# for numero in exercicios_19_tabela['Urbano']:\r\n",
        "#   desvio_relativo=((numero-total_urbano)**2)/n\r\n",
        "#   lista_qui_quadrado_exercicios_19_tabela.append(desvio_relativo)\r\n",
        "\r\n",
        "# for numero in exercicios_19_tabela['Suburbano']:\r\n",
        "#   desvio_relativo=((numero-total_suburbano)**2)/n\r\n",
        "#   lista_qui_quadrado_exercicios_19_tabela.append(desvio_relativo)\r\n",
        "\r\n",
        "# for numero in exercicios_19_tabela['Rural']:\r\n",
        "#   desvio_relativo=((numero-total_rural)**2)/n\r\n",
        "#   lista_qui_quadrado_exercicios_19_tabela.append(desvio_relativo)  \r\n",
        "\r\n",
        "# qui_quadrado_exercicio19=round(sum(lista_qui_quadrado_exercicios_19_tabela),2)\r\n",
        "# qui_quadrado_exercicio19"
      ],
      "execution_count": null,
      "outputs": [
        {
          "output_type": "execute_result",
          "data": {
            "text/plain": [
              "6566.67"
            ]
          },
          "metadata": {
            "tags": []
          },
          "execution_count": 144
        }
      ]
    },
    {
      "cell_type": "markdown",
      "metadata": {
        "id": "SilIXO91xFCX"
      },
      "source": [
        "## Grau de associação entre Variáveis Quantitativas e Qualitativas"
      ]
    },
    {
      "cell_type": "markdown",
      "metadata": {
        "id": "QHb64YPvBp_C"
      },
      "source": [
        "Para tratar do grau de associoação entre dados temos duas possíveis abordagens:\r\n",
        "- Calculo de qui-quadrado - utilizado para dados agrupados, baseando-se na homogeneidade dos grupos formados de acordo com sua variância.\r\n",
        "\r\n",
        "- Calculo do coeficiente de correlação - utilizado para dados não agrupados. Nesse cálculo, o conjunto de dados tem seu centro cartesiano tranladado para as médias das coordenadas. Depois calcula-se o desvio em relação da média, que é normalizado utilizando-se o desvio padrão de pada coordenada. O coeficiente de corelação é a média entre o produtos dos desvios normalizados."
      ]
    },
    {
      "cell_type": "code",
      "metadata": {
        "id": "2TSsmGwexW8i"
      },
      "source": [
        "# tabela4=dados['grau_de_instrução'].value_counts()\r\n",
        "tabela_contagem=dados[['Salario','grau_de_instrução']].groupby(by='grau_de_instrução').count()\r\n",
        "tabela_media=dados[['Salario','grau_de_instrução']].groupby(by='grau_de_instrução').mean()\r\n",
        "tabela_std=dados[['Salario','grau_de_instrução']].groupby(by='grau_de_instrução').std()\r\n",
        "tabela_var=dados[['Salario','grau_de_instrução']].groupby(by='grau_de_instrução').var()\r\n",
        "tabela_min=dados[['Salario','grau_de_instrução']].groupby(by='grau_de_instrução').min()\r\n",
        "tabela_max=dados[['Salario','grau_de_instrução']].groupby(by='grau_de_instrução').max()\r\n",
        "tabela_quantile1=dados[['Salario','grau_de_instrução']].groupby(by='grau_de_instrução').quantile(0.25)\r\n",
        "tabela_quantile2=dados[['Salario','grau_de_instrução']].groupby(by='grau_de_instrução').quantile(0.5)\r\n",
        "tabela_quantile3=dados[['Salario','grau_de_instrução']].groupby(by='grau_de_instrução').quantile(0.75)\r\n",
        "\r\n",
        "lista_de_tabelas=[tabela_std,tabela_var,tabela_min,tabela_max,tabela_quantile1,tabela_quantile2,tabela_quantile3]\r\n",
        "tabela_total=tabela_contagem.merge(tabela_media, how='inner', on='grau_de_instrução')\r\n",
        "\r\n",
        "for tabela in lista_de_tabelas:\r\n",
        "  tabela_total=tabela_total.merge(tabela,how='inner', on='grau_de_instrução')\r\n",
        "\r\n",
        "tabela_total.columns=['n','media','std','var','min','max','q1','q2','q3']\r\n",
        "\r\n",
        "round(tabela_total,2)"
      ],
      "execution_count": null,
      "outputs": []
    },
    {
      "cell_type": "code",
      "metadata": {
        "id": "_HJg2xQDxaDk"
      },
      "source": [
        "variancia_total=dados.Salario.var() #vars\r\n",
        "total_de_dados=dados.shape[0]\r\n",
        "tabela_produto=tabela_contagem*tabela_var\r\n",
        "varS=tabela_produto.sum()/total_de_dados\r\n",
        "\r\n",
        "R2=1-(varS/variancia_total)\r\n",
        "R2"
      ],
      "execution_count": null,
      "outputs": []
    },
    {
      "cell_type": "markdown",
      "metadata": {
        "id": "x4yUEwZ7JJaX"
      },
      "source": [
        "Observando o resultado obtido para R2 vemos que existe um baixo grau de associação entre o grau de instrução e o salário recebido.\r\n",
        "Isso foi constatato ao analizar o grau de dispersão dos dados, através da variancia, dentro de um mesmo grupo. Assim notamos que a variável salário tem baixa correlação com a variavel grau de instrução.\r\n",
        "Com o valor de R2 obtido afirmamos que 37% da variancia dos salarios é explicada em função do grau de instrução. \r\n",
        "\r\n",
        "Calculo agrupando dados "
      ]
    },
    {
      "cell_type": "code",
      "metadata": {
        "id": "k1YDppxCJKK_"
      },
      "source": [
        "tabela_contagem=dados[['Salario','Regiao']].groupby(by='Regiao').count()\r\n",
        "tabela_media=dados[['Salario','Regiao']].groupby(by='Regiao').mean()\r\n",
        "tabela_std=dados[['Salario','Regiao']].groupby(by='Regiao').std()\r\n",
        "tabela_var=dados[['Salario','Regiao']].groupby(by='Regiao').var()\r\n",
        "tabela_min=dados[['Salario','Regiao']].groupby(by='Regiao').min()\r\n",
        "tabela_max=dados[['Salario','Regiao']].groupby(by='Regiao').max()\r\n",
        "tabela_quantile1=dados[['Salario','Regiao']].groupby(by='Regiao').quantile(0.25)\r\n",
        "tabela_quantile2=dados[['Salario','Regiao']].groupby(by='Regiao').quantile(0.5)\r\n",
        "tabela_quantile3=dados[['Salario','Regiao']].groupby(by='Regiao').quantile(0.75)\r\n",
        "\r\n",
        "lista_de_tabelas=[tabela_std,tabela_var,tabela_min,tabela_max,tabela_quantile1,tabela_quantile2,tabela_quantile3]\r\n",
        "tabela_total2=tabela_contagem.merge(tabela_media, how='inner', on='Regiao')\r\n",
        "\r\n",
        "for tabela in lista_de_tabelas:\r\n",
        "  tabela_total2=tabela_total2.merge(tabela,how='inner', on='Regiao')\r\n",
        "\r\n",
        "tabela_total2.columns=['n','media','std','var','min','max','q1','q2','q3']\r\n",
        "tabela_total2"
      ],
      "execution_count": null,
      "outputs": []
    },
    {
      "cell_type": "code",
      "metadata": {
        "id": "y2Fa3ssULOYz"
      },
      "source": [
        "variancia_total=dados.Salario.var() #vars\r\n",
        "total_de_dados=dados.shape[0]\r\n",
        "tabela_produto2=tabela_contagem*tabela_var\r\n",
        "varS2=tabela_produto2.sum()/total_de_dados\r\n",
        "\r\n",
        "R2=1-(varS2/variancia_total)\r\n",
        "R2"
      ],
      "execution_count": null,
      "outputs": []
    },
    {
      "cell_type": "markdown",
      "metadata": {
        "id": "7sYLY-iKL1bw"
      },
      "source": [
        "Acima observamos uma correlação ainda menor entre salário e a região do funcionário. Apenas 4,9% da variabilidade dos salários são explicados pela região do funcionário. Note que na tabela resumo os valores internos são muito próximos entre si, o que indica que os dados possuem alguma caractarística externa à região do funcionário, ou seja, a população possui uma ordenação de independe da região."
      ]
    },
    {
      "cell_type": "code",
      "metadata": {
        "colab": {
          "base_uri": "https://localhost:8080/",
          "height": 137
        },
        "id": "qstN1lRaMQDo",
        "outputId": "e1e3b973-6e83-4a57-b2dd-cb863e55caac"
      },
      "source": [
        "tabela_contagem=dados[['Anos','Estado Civil']].groupby(by='Estado Civil').count()\r\n",
        "tabela_media=dados[['Anos','Estado Civil']].groupby(by='Estado Civil').mean()\r\n",
        "tabela_std=dados[['Anos','Estado Civil']].groupby(by='Estado Civil').std()\r\n",
        "tabela_var=dados[['Anos','Estado Civil']].groupby(by='Estado Civil').var()\r\n",
        "tabela_min=dados[['Anos','Estado Civil']].groupby(by='Estado Civil').min()\r\n",
        "tabela_max=dados[['Anos','Estado Civil']].groupby(by='Estado Civil').max()\r\n",
        "tabela_quantile1=dados[['Anos','Estado Civil']].groupby(by='Estado Civil').quantile(0.25)\r\n",
        "tabela_quantile2=dados[['Anos','Estado Civil']].groupby(by='Estado Civil').quantile(0.5)\r\n",
        "tabela_quantile3=dados[['Anos','Estado Civil']].groupby(by='Estado Civil').quantile(0.75)\r\n",
        "\r\n",
        "lista_de_tabelas=[tabela_std,tabela_var,tabela_min,tabela_max,tabela_quantile1,tabela_quantile2,tabela_quantile3]\r\n",
        "tabela_total2=tabela_contagem.merge(tabela_media, how='inner', on='Estado Civil')\r\n",
        "\r\n",
        "for tabela in lista_de_tabelas:\r\n",
        "  tabela_total2=tabela_total2.merge(tabela,how='inner', on='Estado Civil')\r\n",
        "\r\n",
        "tabela_total2.columns=['n','media','std','var','min','max','q1','q2','q3']\r\n",
        "tabela_total2"
      ],
      "execution_count": null,
      "outputs": [
        {
          "output_type": "execute_result",
          "data": {
            "text/html": [
              "<div>\n",
              "<style scoped>\n",
              "    .dataframe tbody tr th:only-of-type {\n",
              "        vertical-align: middle;\n",
              "    }\n",
              "\n",
              "    .dataframe tbody tr th {\n",
              "        vertical-align: top;\n",
              "    }\n",
              "\n",
              "    .dataframe thead th {\n",
              "        text-align: right;\n",
              "    }\n",
              "</style>\n",
              "<table border=\"1\" class=\"dataframe\">\n",
              "  <thead>\n",
              "    <tr style=\"text-align: right;\">\n",
              "      <th></th>\n",
              "      <th>n</th>\n",
              "      <th>media</th>\n",
              "      <th>std</th>\n",
              "      <th>var</th>\n",
              "      <th>min</th>\n",
              "      <th>max</th>\n",
              "      <th>q1</th>\n",
              "      <th>q2</th>\n",
              "      <th>q3</th>\n",
              "    </tr>\n",
              "    <tr>\n",
              "      <th>Estado Civil</th>\n",
              "      <th></th>\n",
              "      <th></th>\n",
              "      <th></th>\n",
              "      <th></th>\n",
              "      <th></th>\n",
              "      <th></th>\n",
              "      <th></th>\n",
              "      <th></th>\n",
              "      <th></th>\n",
              "    </tr>\n",
              "  </thead>\n",
              "  <tbody>\n",
              "    <tr>\n",
              "      <th>casado</th>\n",
              "      <td>20</td>\n",
              "      <td>35.150</td>\n",
              "      <td>5.896252</td>\n",
              "      <td>34.765789</td>\n",
              "      <td>26</td>\n",
              "      <td>48</td>\n",
              "      <td>30.75</td>\n",
              "      <td>34.5</td>\n",
              "      <td>39.25</td>\n",
              "    </tr>\n",
              "    <tr>\n",
              "      <th>solteiro</th>\n",
              "      <td>16</td>\n",
              "      <td>33.875</td>\n",
              "      <td>7.804913</td>\n",
              "      <td>60.916667</td>\n",
              "      <td>20</td>\n",
              "      <td>46</td>\n",
              "      <td>26.75</td>\n",
              "      <td>35.5</td>\n",
              "      <td>40.25</td>\n",
              "    </tr>\n",
              "  </tbody>\n",
              "</table>\n",
              "</div>"
            ],
            "text/plain": [
              "               n   media       std        var  min  max     q1    q2     q3\n",
              "Estado Civil                                                               \n",
              "casado        20  35.150  5.896252  34.765789   26   48  30.75  34.5  39.25\n",
              "solteiro      16  33.875  7.804913  60.916667   20   46  26.75  35.5  40.25"
            ]
          },
          "metadata": {
            "tags": []
          },
          "execution_count": 113
        }
      ]
    },
    {
      "cell_type": "code",
      "metadata": {
        "colab": {
          "base_uri": "https://localhost:8080/"
        },
        "id": "eTgdW1C9Vw_d",
        "outputId": "c80d3884-be50-4c58-e6bd-e576e408941e"
      },
      "source": [
        "variancia_total=dados.Anos.var() #vars\r\n",
        "total_de_dados=dados.shape[0]\r\n",
        "tabela_produto2=tabela_contagem*tabela_var\r\n",
        "varS2=tabela_produto2.sum()/total_de_dados\r\n",
        "\r\n",
        "R2=1-(varS2/variancia_total)\r\n",
        "R2"
      ],
      "execution_count": null,
      "outputs": [
        {
          "output_type": "execute_result",
          "data": {
            "text/plain": [
              "Anos   -0.021932\n",
              "dtype: float64"
            ]
          },
          "metadata": {
            "tags": []
          },
          "execution_count": 114
        }
      ]
    },
    {
      "cell_type": "markdown",
      "metadata": {
        "id": "mW4K9TxHTNuj"
      },
      "source": [
        "Vemos que a variancia da idade para cada estado civil possui valores próximos a variancia da população. ou seja, ao quebrar os dados em categooria não foi possível reduzir a variancia, o que indica que a relação entre as variáveis é muito pequena."
      ]
    },
    {
      "cell_type": "markdown",
      "metadata": {
        "id": "9Ek7szKBBi45"
      },
      "source": [
        "CORRELAÇÃO PARA DADOS NÃO AGRUPADOS:"
      ]
    },
    {
      "cell_type": "code",
      "metadata": {
        "id": "Arz1usBOWCBe",
        "colab": {
          "base_uri": "https://localhost:8080/",
          "height": 302
        },
        "outputId": "e2440e0a-cf86-4f97-d4cb-a71c6602f393"
      },
      "source": [
        "setor_analfabetismo = {'Setor_primario': [2.0,2.5,2.9,3.3,4.1,7.0], 'Indice_analfabetismo': [17.5,18.5,19.5,22.2,26.5,36.6]}\r\n",
        "indice=['São Paulo','Rio de Janeiro','Belém','Belo Horizonte','Salvador','Recife']\r\n",
        "indicadores_sociais_estados=pd.DataFrame(data=setor_analfabetismo,index=indice)\r\n",
        "indicadores_sociais_estados\r\n",
        "\r\n",
        "relacao_setor_anafalbetimo=sns.scatterplot(x=indicadores_sociais_estados.Setor_primario,y=indicadores_sociais_estados.Indice_analfabetismo)\r\n",
        "relacao_setor_anafalbetimo"
      ],
      "execution_count": null,
      "outputs": [
        {
          "output_type": "execute_result",
          "data": {
            "text/plain": [
              "<matplotlib.axes._subplots.AxesSubplot at 0x7fb38d515630>"
            ]
          },
          "metadata": {
            "tags": []
          },
          "execution_count": 110
        },
        {
          "output_type": "display_data",
          "data": {
            "image/png": "[encoded data removed]",
            "text/plain": [
              "<Figure size 432x288 with 1 Axes>"
            ]
          },
          "metadata": {
            "tags": [],
            "needs_background": "light"
          }
        }
      ]
    },
    {
      "cell_type": "code",
      "metadata": {
        "colab": {
          "base_uri": "https://localhost:8080/"
        },
        "id": "UG_OOp8ggBsg",
        "outputId": "4a8bc1da-0fe7-4eb6-9202-9225f0bb32d0"
      },
      "source": [
        "media_setor_primario=indicadores_sociais_estados.Setor_primario.mean()\r\n",
        "desvio_padrao_setor_primario=indicadores_sociais_estados.Setor_primario.std()\r\n",
        "media_analfabetismo=indicadores_sociais_estados.Indice_analfabetismo.mean()\r\n",
        "desvio_padrao_analfabetismo=indicadores_sociais_estados.Indice_analfabetismo.std()\r\n",
        "\r\n",
        "desvio_da_media_setor_primario=[]\r\n",
        "normalizando_desvio_da_media_setor_primario=[]\r\n",
        "desvio_da_media_analfabetismo=[]\r\n",
        "normalizando_desvio_da_media_analfabetismo=[]\r\n",
        "\r\n",
        "for estado in indicadores_sociais_estados.Setor_primario:\r\n",
        "  desvio1=estado-media_setor_primario\r\n",
        "  desvio_da_media_setor_primario.append(desvio1)\r\n",
        "\r\n",
        "for desvio in desvio_da_media_setor_primario:\r\n",
        "  normalizado1=desvio/desvio_padrao_setor_primario\r\n",
        "  normalizando_desvio_da_media_setor_primario.append(normalizado1)  \r\n",
        "\r\n",
        "for estado in indicadores_sociais_estados.Indice_analfabetismo:\r\n",
        "  desvio2=estado-media_analfabetismo\r\n",
        "  desvio_da_media_analfabetismo.append(desvio2)  \r\n",
        "\r\n",
        "for desvio in desvio_da_media_analfabetismo:\r\n",
        "  normalizado2=desvio/desvio_padrao_analfabetismo\r\n",
        "  normalizando_desvio_da_media_analfabetismo.append(normalizado2)\r\n",
        "\r\n",
        "##produto_entre_normalizadsos=[normalizando_desvio_da_media_analfabetismo*normalizando_desvio_da_media_analfabetismo] \r\n",
        "dicionario_setor_analfabetismo = {'Setor_primario': [2.0,2.5,2.9,3.3,4.1,7.0],\r\n",
        "                              'Indice_analfabetismo': [17.5,18.5,19.5,22.2,26.5,36.6],\r\n",
        "                              'Desvio_setor_primario':desvio_da_media_setor_primario,\r\n",
        "                              'Desvio_analfabetismo':desvio_da_media_analfabetismo,\r\n",
        "                              'normalizado_setor_primario':normalizando_desvio_da_media_setor_primario,\r\n",
        "                              'normalizado_analfabetismo':normalizando_desvio_da_media_analfabetismo}\r\n",
        "indice=['São Paulo','Rio de Janeiro','Belém','Belo Horizonte','Salvador','Recife'] \r\n",
        "\r\n",
        "tabela_setor_analfabetismo=pd.DataFrame(data=dicionario_setor_analfabetismo,index=indice)\r\n",
        "tabela_setor_analfabetismo['Produto_normalizados']=tabela_setor_analfabetismo.normalizado_analfabetismo*tabela_setor_analfabetismo.normalizado_setor_primario\r\n",
        "# tabela_setor_analfabetismo\r\n",
        "\r\n",
        "somatorio_produto_normalizado=tabela_setor_analfabetismo.Produto_normalizados.sum()\r\n",
        "# print(somatorio_produto_normalizado)\r\n",
        "\r\n",
        "total_de_dados=tabela_setor_analfabetismo.shape[0]\r\n",
        "# total_de_dados\r\n",
        "\r\n",
        "coeficiente_de_correlacao=somatorio_produto_normalizado/total_de_dados\r\n",
        "coeficiente_de_correlacao\r\n",
        "\r\n"
      ],
      "execution_count": null,
      "outputs": [
        {
          "output_type": "execute_result",
          "data": {
            "text/plain": [
              "0.8284199652508075"
            ]
          },
          "metadata": {
            "tags": []
          },
          "execution_count": 112
        }
      ]
    },
    {
      "cell_type": "markdown",
      "metadata": {
        "id": "OQbnH0gXBQGm"
      },
      "source": [
        "Acima vemos um considerável grau de correlação entre as pessoas que trabalham no setor primário da economia e seu grau de instrução."
      ]
    },
    {
      "cell_type": "markdown",
      "metadata": {
        "id": "LQE1jv_AVbTf"
      },
      "source": [
        "## Gráfico q x q"
      ]
    },
    {
      "cell_type": "markdown",
      "metadata": {
        "id": "-6j4CzVYX1Fq"
      },
      "source": [
        "Gráfico quantis x quantis"
      ]
    },
    {
      "cell_type": "code",
      "metadata": {
        "colab": {
          "base_uri": "https://localhost:8080/",
          "height": 264
        },
        "id": "8WCrNtmS5j4W",
        "outputId": "c37da124-a9c9-4b09-90b4-9da87c2dc68f"
      },
      "source": [
        "dados_salarios=pd.read_excel(\"/content/drive/My Drive/Dados_livro_estatistica_basica.xlsx\",'CD-Salarios',header=4)\r\n",
        "\r\n",
        "professores=dados_salarios['Prof. Sec.'].sort_values()\r\n",
        "\r\n",
        "Administrador=dados_salarios['Administrador'].sort_values()\r\n",
        "\r\n",
        "lista_numeros=[0,100,60000]\r\n",
        "# lista_numeros2=[1,2,3,4,5,6,7,8,9,10,11,12,13,14,15,16,17,18]\r\n",
        "\r\n",
        "\r\n",
        "plt.plot(lista_numeros,lista_numeros)\r\n",
        "plt.plot(professores,Administrador)\r\n",
        "plt.xlabel='teste'"
      ],
      "execution_count": null,
      "outputs": [
        {
          "output_type": "display_data",
          "data": {
            "image/png": "[encoded data removed]",
            "text/plain": [
              "<Figure size 432x288 with 1 Axes>"
            ]
          },
          "metadata": {
            "tags": [],
            "needs_background": "light"
          }
        }
      ]
    },
    {
      "cell_type": "markdown",
      "metadata": {
        "id": "2zFW_VWfXXPq"
      },
      "source": [
        "Observamos acima que admnistradores que ganham bem ganham mais que os professores que também ganham bem. Além disso, admistradoes quee ganham mal ganham mais que professores que ganham mal. Os seja, os percentis de dados sobre os administradores sempre são maiores que os pencentis de professores. Concluímos isso ao notar que todos os dados eestão prersentes sobre a curva x=y"
      ]
    },
    {
      "cell_type": "code",
      "metadata": {
        "id": "j_hf9AYIUa3G"
      },
      "source": [
        ""
      ],
      "execution_count": null,
      "outputs": []
    }
  ]
}