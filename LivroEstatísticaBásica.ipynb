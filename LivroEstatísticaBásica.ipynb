{
  "nbformat": 4,
  "nbformat_minor": 0,
  "metadata": {
    "colab": {
      "name": "LivroEstatísticaBásica.ipynb",
      "provenance": [],
      "collapsed_sections": [],
      "authorship_tag": "ABX9TyM5xvvFJq2tzjX3L9eXUWdL",
      "include_colab_link": true
    },
    "kernelspec": {
      "display_name": "Python 3",
      "name": "python3"
    }
  },
  "cells": [
    {
      "cell_type": "markdown",
      "metadata": {
        "id": "view-in-github",
        "colab_type": "text"
      },
      "source": [
        "<a href=\"https://colab.research.google.com/github/VitorSancho/Estudos_LivroEstatisticaBasica/blob/main/LivroEstat%C3%ADsticaB%C3%A1sica.ipynb\" target=\"_parent\"><img src=\"https://colab.research.google.com/assets/colab-badge.svg\" alt=\"Open In Colab\"/></a>"
      ]
    },
    {
      "cell_type": "code",
      "metadata": {
        "id": "iUApd8GJnWag"
      },
      "source": [
        "import pandas as pd\r\n",
        "import numpy as np\r\n",
        "import seaborn as sns\r\n",
        "import matplotlib.pyplot as plt"
      ],
      "execution_count": 1,
      "outputs": []
    },
    {
      "cell_type": "markdown",
      "metadata": {
        "id": "z7IBHoagnWiv"
      },
      "source": [
        "# Parte 1 - Análise exploratória de dados"
      ]
    },
    {
      "cell_type": "markdown",
      "metadata": {
        "id": "dTR1fwBQsa7F"
      },
      "source": [
        "## Capítulo 2 - Tipos de Variáveis"
      ]
    },
    {
      "cell_type": "code",
      "metadata": {
        "colab": {
          "base_uri": "https://localhost:8080/"
        },
        "id": "6WAZte-0eiwf",
        "outputId": "dbe5367d-1e39-4c37-cda3-b4b5385e3383"
      },
      "source": [
        "from google.colab import drive\r\n",
        "\r\n",
        "drive.mount('/content/drive')"
      ],
      "execution_count": 2,
      "outputs": [
        {
          "output_type": "stream",
          "text": [
            "Mounted at /content/drive\n"
          ],
          "name": "stdout"
        }
      ]
    },
    {
      "cell_type": "code",
      "metadata": {
        "colab": {
          "base_uri": "https://localhost:8080/",
          "height": 197
        },
        "id": "OSAwotsVejOa",
        "outputId": "dcbaac47-1b73-4008-934e-713c68925417"
      },
      "source": [
        "dados=pd.read_excel(\"/content/drive/My Drive/Dados_livro_estatistica_basica.xlsx\",'Tabela 2.1',header=1)\r\n",
        "dados.rename(columns={\"Grau de Instrução\":'grau_de_instrução',\"Anos (x Sal Min)\":\"Salario\",\"Região de Procedência\":\"Regiao\"},inplace=True)\r\n",
        "dados.head()\r\n",
        "\r\n"
      ],
      "execution_count": 3,
      "outputs": [
        {
          "output_type": "execute_result",
          "data": {
            "text/html": [
              "<div>\n",
              "<style scoped>\n",
              "    .dataframe tbody tr th:only-of-type {\n",
              "        vertical-align: middle;\n",
              "    }\n",
              "\n",
              "    .dataframe tbody tr th {\n",
              "        vertical-align: top;\n",
              "    }\n",
              "\n",
              "    .dataframe thead th {\n",
              "        text-align: right;\n",
              "    }\n",
              "</style>\n",
              "<table border=\"1\" class=\"dataframe\">\n",
              "  <thead>\n",
              "    <tr style=\"text-align: right;\">\n",
              "      <th></th>\n",
              "      <th>N</th>\n",
              "      <th>Estado Civil</th>\n",
              "      <th>grau_de_instrução</th>\n",
              "      <th>N de Filhos</th>\n",
              "      <th>Salario (x Sal Min)</th>\n",
              "      <th>Anos</th>\n",
              "      <th>Meses</th>\n",
              "      <th>Regiao</th>\n",
              "    </tr>\n",
              "  </thead>\n",
              "  <tbody>\n",
              "    <tr>\n",
              "      <th>0</th>\n",
              "      <td>1</td>\n",
              "      <td>solteiro</td>\n",
              "      <td>ensino fundamental</td>\n",
              "      <td>NaN</td>\n",
              "      <td>4.00</td>\n",
              "      <td>26</td>\n",
              "      <td>3</td>\n",
              "      <td>interior</td>\n",
              "    </tr>\n",
              "    <tr>\n",
              "      <th>1</th>\n",
              "      <td>2</td>\n",
              "      <td>casado</td>\n",
              "      <td>ensino fundamental</td>\n",
              "      <td>1.0</td>\n",
              "      <td>4.56</td>\n",
              "      <td>32</td>\n",
              "      <td>10</td>\n",
              "      <td>capital</td>\n",
              "    </tr>\n",
              "    <tr>\n",
              "      <th>2</th>\n",
              "      <td>3</td>\n",
              "      <td>casado</td>\n",
              "      <td>ensino fundamental</td>\n",
              "      <td>2.0</td>\n",
              "      <td>5.25</td>\n",
              "      <td>36</td>\n",
              "      <td>5</td>\n",
              "      <td>capital</td>\n",
              "    </tr>\n",
              "    <tr>\n",
              "      <th>3</th>\n",
              "      <td>4</td>\n",
              "      <td>solteiro</td>\n",
              "      <td>ensino médio</td>\n",
              "      <td>NaN</td>\n",
              "      <td>5.73</td>\n",
              "      <td>20</td>\n",
              "      <td>10</td>\n",
              "      <td>outra</td>\n",
              "    </tr>\n",
              "    <tr>\n",
              "      <th>4</th>\n",
              "      <td>5</td>\n",
              "      <td>solteiro</td>\n",
              "      <td>ensino fundamental</td>\n",
              "      <td>NaN</td>\n",
              "      <td>6.26</td>\n",
              "      <td>40</td>\n",
              "      <td>7</td>\n",
              "      <td>outra</td>\n",
              "    </tr>\n",
              "  </tbody>\n",
              "</table>\n",
              "</div>"
            ],
            "text/plain": [
              "   N Estado Civil   grau_de_instrução  ...  Anos  Meses    Regiao\n",
              "0  1     solteiro  ensino fundamental  ...    26      3  interior\n",
              "1  2       casado  ensino fundamental  ...    32     10   capital\n",
              "2  3       casado  ensino fundamental  ...    36      5   capital\n",
              "3  4     solteiro        ensino médio  ...    20     10     outra\n",
              "4  5     solteiro  ensino fundamental  ...    40      7     outra\n",
              "\n",
              "[5 rows x 8 columns]"
            ]
          },
          "metadata": {
            "tags": []
          },
          "execution_count": 3
        }
      ]
    },
    {
      "cell_type": "markdown",
      "metadata": {
        "id": "qD9gaNxwhU_F"
      },
      "source": [
        "Visualizando frequências"
      ]
    },
    {
      "cell_type": "code",
      "metadata": {
        "colab": {
          "base_uri": "https://localhost:8080/",
          "height": 107
        },
        "id": "orBHHZf1omN7",
        "outputId": "254c2d50-90a4-4dce-bcfa-c770800d7c30"
      },
      "source": [
        "frequencia1=dados['Estado Civil'].value_counts()\r\n",
        "percentual1=dados['Estado Civil'].value_counts(normalize=True)*100\r\n",
        "EstadoCivil=pd.DataFrame({'Frequencia':frequencia1,'Percentual':round(percentual1,2)})\r\n",
        "EstadoCivil"
      ],
      "execution_count": 4,
      "outputs": [
        {
          "output_type": "execute_result",
          "data": {
            "text/html": [
              "<div>\n",
              "<style scoped>\n",
              "    .dataframe tbody tr th:only-of-type {\n",
              "        vertical-align: middle;\n",
              "    }\n",
              "\n",
              "    .dataframe tbody tr th {\n",
              "        vertical-align: top;\n",
              "    }\n",
              "\n",
              "    .dataframe thead th {\n",
              "        text-align: right;\n",
              "    }\n",
              "</style>\n",
              "<table border=\"1\" class=\"dataframe\">\n",
              "  <thead>\n",
              "    <tr style=\"text-align: right;\">\n",
              "      <th></th>\n",
              "      <th>Frequencia</th>\n",
              "      <th>Percentual</th>\n",
              "    </tr>\n",
              "  </thead>\n",
              "  <tbody>\n",
              "    <tr>\n",
              "      <th>casado</th>\n",
              "      <td>20</td>\n",
              "      <td>55.56</td>\n",
              "    </tr>\n",
              "    <tr>\n",
              "      <th>solteiro</th>\n",
              "      <td>16</td>\n",
              "      <td>44.44</td>\n",
              "    </tr>\n",
              "  </tbody>\n",
              "</table>\n",
              "</div>"
            ],
            "text/plain": [
              "          Frequencia  Percentual\n",
              "casado            20       55.56\n",
              "solteiro          16       44.44"
            ]
          },
          "metadata": {
            "tags": []
          },
          "execution_count": 4
        }
      ]
    },
    {
      "cell_type": "code",
      "metadata": {
        "colab": {
          "base_uri": "https://localhost:8080/",
          "height": 137
        },
        "id": "avfR38MIpGXL",
        "outputId": "c5cb43bb-f279-4241-8365-ead70230384b"
      },
      "source": [
        "frequencia2=dados['Regiao'].value_counts()\r\n",
        "percentual2=dados['Regiao'].value_counts(normalize=True)\r\n",
        "RegiaodeProcedencia=pd.DataFrame({'Frequencia':frequencia2,'Percentual':round(percentual2,2)})\r\n",
        "RegiaodeProcedencia"
      ],
      "execution_count": 5,
      "outputs": [
        {
          "output_type": "execute_result",
          "data": {
            "text/html": [
              "<div>\n",
              "<style scoped>\n",
              "    .dataframe tbody tr th:only-of-type {\n",
              "        vertical-align: middle;\n",
              "    }\n",
              "\n",
              "    .dataframe tbody tr th {\n",
              "        vertical-align: top;\n",
              "    }\n",
              "\n",
              "    .dataframe thead th {\n",
              "        text-align: right;\n",
              "    }\n",
              "</style>\n",
              "<table border=\"1\" class=\"dataframe\">\n",
              "  <thead>\n",
              "    <tr style=\"text-align: right;\">\n",
              "      <th></th>\n",
              "      <th>Frequencia</th>\n",
              "      <th>Percentual</th>\n",
              "    </tr>\n",
              "  </thead>\n",
              "  <tbody>\n",
              "    <tr>\n",
              "      <th>outra</th>\n",
              "      <td>13</td>\n",
              "      <td>0.36</td>\n",
              "    </tr>\n",
              "    <tr>\n",
              "      <th>interior</th>\n",
              "      <td>12</td>\n",
              "      <td>0.33</td>\n",
              "    </tr>\n",
              "    <tr>\n",
              "      <th>capital</th>\n",
              "      <td>11</td>\n",
              "      <td>0.31</td>\n",
              "    </tr>\n",
              "  </tbody>\n",
              "</table>\n",
              "</div>"
            ],
            "text/plain": [
              "          Frequencia  Percentual\n",
              "outra             13        0.36\n",
              "interior          12        0.33\n",
              "capital           11        0.31"
            ]
          },
          "metadata": {
            "tags": []
          },
          "execution_count": 5
        }
      ]
    },
    {
      "cell_type": "code",
      "metadata": {
        "colab": {
          "base_uri": "https://localhost:8080/",
          "height": 197
        },
        "id": "gFLzd6pFqNv1",
        "outputId": "507d3453-844b-4f17-924f-1c482224489c"
      },
      "source": [
        "serie=dados['Estado Civil']=='casado'\r\n",
        "dados3=dados[serie]\r\n",
        "\r\n",
        "frequencia3=dados3['N de Filhos'].value_counts()\r\n",
        "percentual3=dados3['N de Filhos'].value_counts(normalize=True)\r\n",
        "NdeFilhos=pd.DataFrame({'Frequencia':frequencia3,'Percentual':round(percentual3,2)})\r\n",
        "NdeFilhos.rename_axis(\"NdeFilhos\",axis=\"columns\",inplace=True)\r\n",
        "\r\n",
        "NdeFilhos\r\n"
      ],
      "execution_count": 6,
      "outputs": [
        {
          "output_type": "execute_result",
          "data": {
            "text/html": [
              "<div>\n",
              "<style scoped>\n",
              "    .dataframe tbody tr th:only-of-type {\n",
              "        vertical-align: middle;\n",
              "    }\n",
              "\n",
              "    .dataframe tbody tr th {\n",
              "        vertical-align: top;\n",
              "    }\n",
              "\n",
              "    .dataframe thead th {\n",
              "        text-align: right;\n",
              "    }\n",
              "</style>\n",
              "<table border=\"1\" class=\"dataframe\">\n",
              "  <thead>\n",
              "    <tr style=\"text-align: right;\">\n",
              "      <th>NdeFilhos</th>\n",
              "      <th>Frequencia</th>\n",
              "      <th>Percentual</th>\n",
              "    </tr>\n",
              "  </thead>\n",
              "  <tbody>\n",
              "    <tr>\n",
              "      <th>2.0</th>\n",
              "      <td>7</td>\n",
              "      <td>0.35</td>\n",
              "    </tr>\n",
              "    <tr>\n",
              "      <th>1.0</th>\n",
              "      <td>5</td>\n",
              "      <td>0.25</td>\n",
              "    </tr>\n",
              "    <tr>\n",
              "      <th>0.0</th>\n",
              "      <td>4</td>\n",
              "      <td>0.20</td>\n",
              "    </tr>\n",
              "    <tr>\n",
              "      <th>3.0</th>\n",
              "      <td>3</td>\n",
              "      <td>0.15</td>\n",
              "    </tr>\n",
              "    <tr>\n",
              "      <th>5.0</th>\n",
              "      <td>1</td>\n",
              "      <td>0.05</td>\n",
              "    </tr>\n",
              "  </tbody>\n",
              "</table>\n",
              "</div>"
            ],
            "text/plain": [
              "NdeFilhos  Frequencia  Percentual\n",
              "2.0                 7        0.35\n",
              "1.0                 5        0.25\n",
              "0.0                 4        0.20\n",
              "3.0                 3        0.15\n",
              "5.0                 1        0.05"
            ]
          },
          "metadata": {
            "tags": []
          },
          "execution_count": 6
        }
      ]
    },
    {
      "cell_type": "code",
      "metadata": {
        "colab": {
          "base_uri": "https://localhost:8080/",
          "height": 137
        },
        "id": "aXC3N-F9rnLr",
        "outputId": "e84ae945-1230-44b4-be1a-860ea4eeed9c"
      },
      "source": [
        "# frequencia4=dados['Anos'].value_counts()\r\n",
        "# percentual4=dados['Anos'].value_counts(normalize=True)\r\n",
        "# Idade=pd.DataFrame({'Frequencia':frequencia4,'Percentual':round(percentual4,2)})\r\n",
        "# Idade\r\n",
        "\r\n",
        "# pd.cut(x=dados.Renda,\r\n",
        "#                        bins=k,\r\n",
        "#                        include_lowest=True)\r\n",
        "\r\n",
        "\r\n",
        "frequencia4=pd.value_counts(pd.cut(x=dados.Anos,bins=3,include_lowest=True)).sort_index()\r\n",
        "percentual4=round(pd.value_counts(pd.cut(x=dados.Anos,bins=3,include_lowest=True),normalize=True).sort_index(),2)\r\n",
        "\r\n",
        "Idades=pd.DataFrame({\"Frequencia\":frequencia4,\"Percentual\":percentual4})\r\n",
        "Idades"
      ],
      "execution_count": 7,
      "outputs": [
        {
          "output_type": "execute_result",
          "data": {
            "text/html": [
              "<div>\n",
              "<style scoped>\n",
              "    .dataframe tbody tr th:only-of-type {\n",
              "        vertical-align: middle;\n",
              "    }\n",
              "\n",
              "    .dataframe tbody tr th {\n",
              "        vertical-align: top;\n",
              "    }\n",
              "\n",
              "    .dataframe thead th {\n",
              "        text-align: right;\n",
              "    }\n",
              "</style>\n",
              "<table border=\"1\" class=\"dataframe\">\n",
              "  <thead>\n",
              "    <tr style=\"text-align: right;\">\n",
              "      <th></th>\n",
              "      <th>Frequencia</th>\n",
              "      <th>Percentual</th>\n",
              "    </tr>\n",
              "  </thead>\n",
              "  <tbody>\n",
              "    <tr>\n",
              "      <th>(19.971, 29.333]</th>\n",
              "      <td>8</td>\n",
              "      <td>0.22</td>\n",
              "    </tr>\n",
              "    <tr>\n",
              "      <th>(29.333, 38.667]</th>\n",
              "      <td>17</td>\n",
              "      <td>0.47</td>\n",
              "    </tr>\n",
              "    <tr>\n",
              "      <th>(38.667, 48.0]</th>\n",
              "      <td>11</td>\n",
              "      <td>0.31</td>\n",
              "    </tr>\n",
              "  </tbody>\n",
              "</table>\n",
              "</div>"
            ],
            "text/plain": [
              "                  Frequencia  Percentual\n",
              "(19.971, 29.333]           8        0.22\n",
              "(29.333, 38.667]          17        0.47\n",
              "(38.667, 48.0]            11        0.31"
            ]
          },
          "metadata": {
            "tags": []
          },
          "execution_count": 7
        }
      ]
    },
    {
      "cell_type": "code",
      "metadata": {
        "colab": {
          "base_uri": "https://localhost:8080/",
          "height": 857
        },
        "id": "sC_42El9tQZl",
        "outputId": "313bc7c8-844f-4c4b-c684-caf936b4ba0a"
      },
      "source": [
        "dados2=pd.read_excel(\"/content/drive/My Drive/Dados_livro_estatistica_basica.xlsx\",'CD-Brasil',header=4)\r\n",
        "#Alterando o nome das variáveis\r\n",
        "dados2.rename(columns={'Unnamed: 0': 'Região', 'Unnamed: 1': 'Estado'}, inplace=True)\r\n",
        "#Refatorar: Utilizar Unstack\r\n",
        "\r\n",
        "serie2=(dados2['Estado']!='Subtot') & (dados2['Estado']!='Total')\r\n",
        "\r\n",
        "dados2=dados2[serie2]\r\n",
        "dados2"
      ],
      "execution_count": 8,
      "outputs": [
        {
          "output_type": "execute_result",
          "data": {
            "text/html": [
              "<div>\n",
              "<style scoped>\n",
              "    .dataframe tbody tr th:only-of-type {\n",
              "        vertical-align: middle;\n",
              "    }\n",
              "\n",
              "    .dataframe tbody tr th {\n",
              "        vertical-align: top;\n",
              "    }\n",
              "\n",
              "    .dataframe thead th {\n",
              "        text-align: right;\n",
              "    }\n",
              "</style>\n",
              "<table border=\"1\" class=\"dataframe\">\n",
              "  <thead>\n",
              "    <tr style=\"text-align: right;\">\n",
              "      <th></th>\n",
              "      <th>Região</th>\n",
              "      <th>Estado</th>\n",
              "      <th>Superfície</th>\n",
              "      <th>População</th>\n",
              "      <th>Densidade</th>\n",
              "    </tr>\n",
              "  </thead>\n",
              "  <tbody>\n",
              "    <tr>\n",
              "      <th>0</th>\n",
              "      <td>Norte</td>\n",
              "      <td>RO</td>\n",
              "      <td>237576.167</td>\n",
              "      <td>1453756</td>\n",
              "      <td>6.119115</td>\n",
              "    </tr>\n",
              "    <tr>\n",
              "      <th>1</th>\n",
              "      <td>NaN</td>\n",
              "      <td>AC</td>\n",
              "      <td>164165.250</td>\n",
              "      <td>653385</td>\n",
              "      <td>3.980044</td>\n",
              "    </tr>\n",
              "    <tr>\n",
              "      <th>2</th>\n",
              "      <td>NaN</td>\n",
              "      <td>AM</td>\n",
              "      <td>1559161.810</td>\n",
              "      <td>3221940</td>\n",
              "      <td>2.066456</td>\n",
              "    </tr>\n",
              "    <tr>\n",
              "      <th>3</th>\n",
              "      <td>NaN</td>\n",
              "      <td>RR</td>\n",
              "      <td>224298.980</td>\n",
              "      <td>395725</td>\n",
              "      <td>1.764275</td>\n",
              "    </tr>\n",
              "    <tr>\n",
              "      <th>4</th>\n",
              "      <td>NaN</td>\n",
              "      <td>PA</td>\n",
              "      <td>1247689.515</td>\n",
              "      <td>7065573</td>\n",
              "      <td>5.662926</td>\n",
              "    </tr>\n",
              "    <tr>\n",
              "      <th>5</th>\n",
              "      <td>NaN</td>\n",
              "      <td>AP</td>\n",
              "      <td>142814.585</td>\n",
              "      <td>587311</td>\n",
              "      <td>4.112402</td>\n",
              "    </tr>\n",
              "    <tr>\n",
              "      <th>6</th>\n",
              "      <td>NaN</td>\n",
              "      <td>TO</td>\n",
              "      <td>277620.914</td>\n",
              "      <td>1243627</td>\n",
              "      <td>4.479587</td>\n",
              "    </tr>\n",
              "    <tr>\n",
              "      <th>8</th>\n",
              "      <td>Nordeste</td>\n",
              "      <td>MA</td>\n",
              "      <td>331983.293</td>\n",
              "      <td>6118995</td>\n",
              "      <td>18.431635</td>\n",
              "    </tr>\n",
              "    <tr>\n",
              "      <th>9</th>\n",
              "      <td>NaN</td>\n",
              "      <td>PI</td>\n",
              "      <td>251529.186</td>\n",
              "      <td>3032435</td>\n",
              "      <td>12.055997</td>\n",
              "    </tr>\n",
              "    <tr>\n",
              "      <th>10</th>\n",
              "      <td>NaN</td>\n",
              "      <td>CE</td>\n",
              "      <td>148825.602</td>\n",
              "      <td>8185250</td>\n",
              "      <td>54.998938</td>\n",
              "    </tr>\n",
              "    <tr>\n",
              "      <th>11</th>\n",
              "      <td>NaN</td>\n",
              "      <td>RN</td>\n",
              "      <td>52796.791</td>\n",
              "      <td>3013740</td>\n",
              "      <td>57.081878</td>\n",
              "    </tr>\n",
              "    <tr>\n",
              "      <th>12</th>\n",
              "      <td>NaN</td>\n",
              "      <td>PB</td>\n",
              "      <td>56439.838</td>\n",
              "      <td>3641397</td>\n",
              "      <td>64.518204</td>\n",
              "    </tr>\n",
              "    <tr>\n",
              "      <th>13</th>\n",
              "      <td>NaN</td>\n",
              "      <td>PE</td>\n",
              "      <td>98311.616</td>\n",
              "      <td>8486638</td>\n",
              "      <td>86.323858</td>\n",
              "    </tr>\n",
              "    <tr>\n",
              "      <th>14</th>\n",
              "      <td>NaN</td>\n",
              "      <td>AL</td>\n",
              "      <td>27767.661</td>\n",
              "      <td>3037231</td>\n",
              "      <td>109.380153</td>\n",
              "    </tr>\n",
              "    <tr>\n",
              "      <th>15</th>\n",
              "      <td>NaN</td>\n",
              "      <td>SE</td>\n",
              "      <td>21910.348</td>\n",
              "      <td>1939426</td>\n",
              "      <td>88.516440</td>\n",
              "    </tr>\n",
              "    <tr>\n",
              "      <th>16</th>\n",
              "      <td>NaN</td>\n",
              "      <td>BA</td>\n",
              "      <td>564692.669</td>\n",
              "      <td>14080670</td>\n",
              "      <td>24.935103</td>\n",
              "    </tr>\n",
              "    <tr>\n",
              "      <th>18</th>\n",
              "      <td>Sudeste</td>\n",
              "      <td>MG</td>\n",
              "      <td>586528.293</td>\n",
              "      <td>19273533</td>\n",
              "      <td>32.860364</td>\n",
              "    </tr>\n",
              "    <tr>\n",
              "      <th>19</th>\n",
              "      <td>NaN</td>\n",
              "      <td>ES</td>\n",
              "      <td>46077.519</td>\n",
              "      <td>3351669</td>\n",
              "      <td>72.739789</td>\n",
              "    </tr>\n",
              "    <tr>\n",
              "      <th>20</th>\n",
              "      <td>NaN</td>\n",
              "      <td>RJ</td>\n",
              "      <td>43696.054</td>\n",
              "      <td>15420450</td>\n",
              "      <td>352.902576</td>\n",
              "    </tr>\n",
              "    <tr>\n",
              "      <th>21</th>\n",
              "      <td>NaN</td>\n",
              "      <td>SP</td>\n",
              "      <td>248209.426</td>\n",
              "      <td>39827690</td>\n",
              "      <td>160.460022</td>\n",
              "    </tr>\n",
              "    <tr>\n",
              "      <th>23</th>\n",
              "      <td>Sul</td>\n",
              "      <td>PR</td>\n",
              "      <td>199314.850</td>\n",
              "      <td>10284503</td>\n",
              "      <td>51.599281</td>\n",
              "    </tr>\n",
              "    <tr>\n",
              "      <th>24</th>\n",
              "      <td>NaN</td>\n",
              "      <td>SC</td>\n",
              "      <td>95346.181</td>\n",
              "      <td>5866487</td>\n",
              "      <td>61.528285</td>\n",
              "    </tr>\n",
              "    <tr>\n",
              "      <th>25</th>\n",
              "      <td>NaN</td>\n",
              "      <td>RS</td>\n",
              "      <td>281748.583</td>\n",
              "      <td>10582287</td>\n",
              "      <td>37.559326</td>\n",
              "    </tr>\n",
              "    <tr>\n",
              "      <th>27</th>\n",
              "      <td>Centro-Oeste</td>\n",
              "      <td>MS</td>\n",
              "      <td>357124.962</td>\n",
              "      <td>2265813</td>\n",
              "      <td>6.344594</td>\n",
              "    </tr>\n",
              "    <tr>\n",
              "      <th>28</th>\n",
              "      <td>NaN</td>\n",
              "      <td>MT</td>\n",
              "      <td>903357.908</td>\n",
              "      <td>2854642</td>\n",
              "      <td>3.160034</td>\n",
              "    </tr>\n",
              "    <tr>\n",
              "      <th>29</th>\n",
              "      <td>NaN</td>\n",
              "      <td>GO</td>\n",
              "      <td>340086.698</td>\n",
              "      <td>5647035</td>\n",
              "      <td>16.604692</td>\n",
              "    </tr>\n",
              "    <tr>\n",
              "      <th>30</th>\n",
              "      <td>NaN</td>\n",
              "      <td>DF</td>\n",
              "      <td>5801.937</td>\n",
              "      <td>2455903</td>\n",
              "      <td>423.290187</td>\n",
              "    </tr>\n",
              "  </tbody>\n",
              "</table>\n",
              "</div>"
            ],
            "text/plain": [
              "          Região Estado   Superfície  População   Densidade\n",
              "0          Norte     RO   237576.167    1453756    6.119115\n",
              "1            NaN     AC   164165.250     653385    3.980044\n",
              "2            NaN     AM  1559161.810    3221940    2.066456\n",
              "3            NaN     RR   224298.980     395725    1.764275\n",
              "4            NaN     PA  1247689.515    7065573    5.662926\n",
              "5            NaN     AP   142814.585     587311    4.112402\n",
              "6            NaN     TO   277620.914    1243627    4.479587\n",
              "8       Nordeste     MA   331983.293    6118995   18.431635\n",
              "9            NaN     PI   251529.186    3032435   12.055997\n",
              "10           NaN     CE   148825.602    8185250   54.998938\n",
              "11           NaN     RN    52796.791    3013740   57.081878\n",
              "12           NaN     PB    56439.838    3641397   64.518204\n",
              "13           NaN     PE    98311.616    8486638   86.323858\n",
              "14           NaN     AL    27767.661    3037231  109.380153\n",
              "15           NaN     SE    21910.348    1939426   88.516440\n",
              "16           NaN     BA   564692.669   14080670   24.935103\n",
              "18       Sudeste     MG   586528.293   19273533   32.860364\n",
              "19           NaN     ES    46077.519    3351669   72.739789\n",
              "20           NaN     RJ    43696.054   15420450  352.902576\n",
              "21           NaN     SP   248209.426   39827690  160.460022\n",
              "23           Sul     PR   199314.850   10284503   51.599281\n",
              "24           NaN     SC    95346.181    5866487   61.528285\n",
              "25           NaN     RS   281748.583   10582287   37.559326\n",
              "27  Centro-Oeste     MS   357124.962    2265813    6.344594\n",
              "28           NaN     MT   903357.908    2854642    3.160034\n",
              "29           NaN     GO   340086.698    5647035   16.604692\n",
              "30           NaN     DF     5801.937    2455903  423.290187"
            ]
          },
          "metadata": {
            "tags": []
          },
          "execution_count": 8
        }
      ]
    },
    {
      "cell_type": "code",
      "metadata": {
        "colab": {
          "base_uri": "https://localhost:8080/",
          "height": 197
        },
        "id": "S_KlKkakv7rs",
        "outputId": "5e80c4d5-b72c-4dd4-8ca6-04cda7cdc205"
      },
      "source": [
        "faixa=[dados2.População.min(),1000000,5000000,10000000,20000000,dados2.População.max()]\r\n",
        "\r\n",
        "populacao=pd.value_counts(pd.cut(dados2.População,bins=faixa,include_lowest=True)).sort_index()\r\n",
        "populacaoPercentual=pd.value_counts(pd.cut(dados2.População,bins=faixa,include_lowest=True),normalize=True).sort_index()\r\n",
        "\r\n",
        "dist_populacao=pd.DataFrame({\"Frequencia\":populacao,\"Percentual\":populacaoPercentual})\r\n",
        "dist_populacao"
      ],
      "execution_count": 9,
      "outputs": [
        {
          "output_type": "execute_result",
          "data": {
            "text/html": [
              "<div>\n",
              "<style scoped>\n",
              "    .dataframe tbody tr th:only-of-type {\n",
              "        vertical-align: middle;\n",
              "    }\n",
              "\n",
              "    .dataframe tbody tr th {\n",
              "        vertical-align: top;\n",
              "    }\n",
              "\n",
              "    .dataframe thead th {\n",
              "        text-align: right;\n",
              "    }\n",
              "</style>\n",
              "<table border=\"1\" class=\"dataframe\">\n",
              "  <thead>\n",
              "    <tr style=\"text-align: right;\">\n",
              "      <th></th>\n",
              "      <th>Frequencia</th>\n",
              "      <th>Percentual</th>\n",
              "    </tr>\n",
              "  </thead>\n",
              "  <tbody>\n",
              "    <tr>\n",
              "      <th>(395724.999, 1000000.0]</th>\n",
              "      <td>3</td>\n",
              "      <td>0.111111</td>\n",
              "    </tr>\n",
              "    <tr>\n",
              "      <th>(1000000.0, 5000000.0]</th>\n",
              "      <td>12</td>\n",
              "      <td>0.444444</td>\n",
              "    </tr>\n",
              "    <tr>\n",
              "      <th>(5000000.0, 10000000.0]</th>\n",
              "      <td>6</td>\n",
              "      <td>0.222222</td>\n",
              "    </tr>\n",
              "    <tr>\n",
              "      <th>(10000000.0, 20000000.0]</th>\n",
              "      <td>5</td>\n",
              "      <td>0.185185</td>\n",
              "    </tr>\n",
              "    <tr>\n",
              "      <th>(20000000.0, 39827690.0]</th>\n",
              "      <td>1</td>\n",
              "      <td>0.037037</td>\n",
              "    </tr>\n",
              "  </tbody>\n",
              "</table>\n",
              "</div>"
            ],
            "text/plain": [
              "                          Frequencia  Percentual\n",
              "(395724.999, 1000000.0]            3    0.111111\n",
              "(1000000.0, 5000000.0]            12    0.444444\n",
              "(5000000.0, 10000000.0]            6    0.222222\n",
              "(10000000.0, 20000000.0]           5    0.185185\n",
              "(20000000.0, 39827690.0]           1    0.037037"
            ]
          },
          "metadata": {
            "tags": []
          },
          "execution_count": 9
        }
      ]
    },
    {
      "cell_type": "code",
      "metadata": {
        "colab": {
          "base_uri": "https://localhost:8080/",
          "height": 197
        },
        "id": "m60Yg_ehxUp6",
        "outputId": "6f3a0448-0861-47db-9d58-154fe0ee291c"
      },
      "source": [
        "faixa2=[dados2.Densidade.min(),10,30,50,100,dados2.Densidade.max()]\r\n",
        "\r\n",
        "densidade=pd.value_counts(pd.cut(dados2.Densidade,bins=faixa2,include_lowest=True))\r\n",
        "densidade=pd.value_counts(pd.cut(dados2.Densidade,bins=faixa2,include_lowest=True))\r\n",
        "densidadePercentual=pd.value_counts(pd.cut(dados2.Densidade,bins=faixa2,include_lowest=True),normalize=True)\r\n",
        "\r\n",
        "dist_densidade_populacao=pd.DataFrame({\"Frequencia\":densidade,\"Percentual\":densidadePercentual})\r\n",
        "# dist_densidade_populacao.value_counts()\r\n",
        "dist_densidade_populacao"
      ],
      "execution_count": 10,
      "outputs": [
        {
          "output_type": "execute_result",
          "data": {
            "text/html": [
              "<div>\n",
              "<style scoped>\n",
              "    .dataframe tbody tr th:only-of-type {\n",
              "        vertical-align: middle;\n",
              "    }\n",
              "\n",
              "    .dataframe tbody tr th {\n",
              "        vertical-align: top;\n",
              "    }\n",
              "\n",
              "    .dataframe thead th {\n",
              "        text-align: right;\n",
              "    }\n",
              "</style>\n",
              "<table border=\"1\" class=\"dataframe\">\n",
              "  <thead>\n",
              "    <tr style=\"text-align: right;\">\n",
              "      <th></th>\n",
              "      <th>Frequencia</th>\n",
              "      <th>Percentual</th>\n",
              "    </tr>\n",
              "  </thead>\n",
              "  <tbody>\n",
              "    <tr>\n",
              "      <th>(1.7630000000000001, 10.0]</th>\n",
              "      <td>9</td>\n",
              "      <td>0.333333</td>\n",
              "    </tr>\n",
              "    <tr>\n",
              "      <th>(50.0, 100.0]</th>\n",
              "      <td>8</td>\n",
              "      <td>0.296296</td>\n",
              "    </tr>\n",
              "    <tr>\n",
              "      <th>(100.0, 423.29]</th>\n",
              "      <td>4</td>\n",
              "      <td>0.148148</td>\n",
              "    </tr>\n",
              "    <tr>\n",
              "      <th>(10.0, 30.0]</th>\n",
              "      <td>4</td>\n",
              "      <td>0.148148</td>\n",
              "    </tr>\n",
              "    <tr>\n",
              "      <th>(30.0, 50.0]</th>\n",
              "      <td>2</td>\n",
              "      <td>0.074074</td>\n",
              "    </tr>\n",
              "  </tbody>\n",
              "</table>\n",
              "</div>"
            ],
            "text/plain": [
              "                            Frequencia  Percentual\n",
              "(1.7630000000000001, 10.0]           9    0.333333\n",
              "(50.0, 100.0]                        8    0.296296\n",
              "(100.0, 423.29]                      4    0.148148\n",
              "(10.0, 30.0]                         4    0.148148\n",
              "(30.0, 50.0]                         2    0.074074"
            ]
          },
          "metadata": {
            "tags": []
          },
          "execution_count": 10
        }
      ]
    },
    {
      "cell_type": "code",
      "metadata": {
        "colab": {
          "base_uri": "https://localhost:8080/",
          "height": 280
        },
        "id": "kd5wCg0P1nln",
        "outputId": "6c4d1210-fba5-4af2-f56c-69b343131021"
      },
      "source": [
        "grafico=sns.histplot(data=dados,x=dados['grau_de_instrução'])"
      ],
      "execution_count": 11,
      "outputs": [
        {
          "output_type": "display_data",
          "data": {
            "image/png": "[encoded data removed]",
            "text/plain": [
              "<Figure size 432x288 with 1 Axes>"
            ]
          },
          "metadata": {
            "tags": [],
            "needs_background": "light"
          }
        }
      ]
    },
    {
      "cell_type": "code",
      "metadata": {
        "colab": {
          "base_uri": "https://localhost:8080/",
          "height": 267
        },
        "id": "eKW6a2qdcwM6",
        "outputId": "bcdb99de-2dd4-4d10-8efe-94eb673ec401"
      },
      "source": [
        "notas=pd.read_excel(\"/content/drive/My Drive/Dados_livro_estatistica_basica.xlsx\",'CD-Notas1',header=2)\r\n",
        "\r\n",
        "notas.rename_axis('#',axis= 'columns',inplace=True)\r\n",
        "notas.rename(columns={'Fonte: Autores': 'notas'},inplace=True)\r\n",
        "# NdeFilhos.rename_axis(\"NdeFilhos\",axis=\"columns\",inplace=True)\r\n",
        "\r\n",
        "grafico_notas=sns.histplot(data=notas,bins=9)"
      ],
      "execution_count": 12,
      "outputs": [
        {
          "output_type": "display_data",
          "data": {
            "image/png": "[encoded data removed]",
            "text/plain": [
              "<Figure size 432x288 with 1 Axes>"
            ]
          },
          "metadata": {
            "tags": [],
            "needs_background": "light"
          }
        }
      ]
    },
    {
      "cell_type": "markdown",
      "metadata": {
        "id": "s4wHh_2YPruw"
      },
      "source": [
        "Calculando posições de decis e quartis\r\n"
      ]
    },
    {
      "cell_type": "code",
      "metadata": {
        "id": "_RTxYzP1Ibgh",
        "colab": {
          "base_uri": "https://localhost:8080/",
          "height": 197
        },
        "outputId": "c66d8081-8d17-4fc1-a067-2dc3ccd68b83"
      },
      "source": [
        "dados2.head()\r\n",
        "# primeiro_decil=dados2.População.quantile(0.1)\r\n",
        "# primeiro_quartil=dados2.População.quantile(0.25)\r\n",
        "# segundo_quartil=dados2.População.quantile(0.5)\r\n",
        "# terceiro_quartil=dados2.População.quantile(0.75)\r\n",
        "# oitavo_decil=dados2.População.quantile(0.8)\r\n"
      ],
      "execution_count": 13,
      "outputs": [
        {
          "output_type": "execute_result",
          "data": {
            "text/html": [
              "<div>\n",
              "<style scoped>\n",
              "    .dataframe tbody tr th:only-of-type {\n",
              "        vertical-align: middle;\n",
              "    }\n",
              "\n",
              "    .dataframe tbody tr th {\n",
              "        vertical-align: top;\n",
              "    }\n",
              "\n",
              "    .dataframe thead th {\n",
              "        text-align: right;\n",
              "    }\n",
              "</style>\n",
              "<table border=\"1\" class=\"dataframe\">\n",
              "  <thead>\n",
              "    <tr style=\"text-align: right;\">\n",
              "      <th></th>\n",
              "      <th>Região</th>\n",
              "      <th>Estado</th>\n",
              "      <th>Superfície</th>\n",
              "      <th>População</th>\n",
              "      <th>Densidade</th>\n",
              "    </tr>\n",
              "  </thead>\n",
              "  <tbody>\n",
              "    <tr>\n",
              "      <th>0</th>\n",
              "      <td>Norte</td>\n",
              "      <td>RO</td>\n",
              "      <td>237576.167</td>\n",
              "      <td>1453756</td>\n",
              "      <td>6.119115</td>\n",
              "    </tr>\n",
              "    <tr>\n",
              "      <th>1</th>\n",
              "      <td>NaN</td>\n",
              "      <td>AC</td>\n",
              "      <td>164165.250</td>\n",
              "      <td>653385</td>\n",
              "      <td>3.980044</td>\n",
              "    </tr>\n",
              "    <tr>\n",
              "      <th>2</th>\n",
              "      <td>NaN</td>\n",
              "      <td>AM</td>\n",
              "      <td>1559161.810</td>\n",
              "      <td>3221940</td>\n",
              "      <td>2.066456</td>\n",
              "    </tr>\n",
              "    <tr>\n",
              "      <th>3</th>\n",
              "      <td>NaN</td>\n",
              "      <td>RR</td>\n",
              "      <td>224298.980</td>\n",
              "      <td>395725</td>\n",
              "      <td>1.764275</td>\n",
              "    </tr>\n",
              "    <tr>\n",
              "      <th>4</th>\n",
              "      <td>NaN</td>\n",
              "      <td>PA</td>\n",
              "      <td>1247689.515</td>\n",
              "      <td>7065573</td>\n",
              "      <td>5.662926</td>\n",
              "    </tr>\n",
              "  </tbody>\n",
              "</table>\n",
              "</div>"
            ],
            "text/plain": [
              "  Região Estado   Superfície  População  Densidade\n",
              "0  Norte     RO   237576.167    1453756   6.119115\n",
              "1    NaN     AC   164165.250     653385   3.980044\n",
              "2    NaN     AM  1559161.810    3221940   2.066456\n",
              "3    NaN     RR   224298.980     395725   1.764275\n",
              "4    NaN     PA  1247689.515    7065573   5.662926"
            ]
          },
          "metadata": {
            "tags": []
          },
          "execution_count": 13
        }
      ]
    },
    {
      "cell_type": "code",
      "metadata": {
        "id": "8omls1lyNn6a",
        "colab": {
          "base_uri": "https://localhost:8080/",
          "height": 404
        },
        "outputId": "2cd30d5c-46f4-43a8-e5c4-e367c9d6d5ad"
      },
      "source": [
        "boxplot1=sns.boxplot(data=dados2,x=dados2.População,orient='h')\r\n",
        "boxplot1.set_title(\"Dispersão da população por estado\")\r\n",
        "boxplot1.figure.set_size_inches(12,6)"
      ],
      "execution_count": 14,
      "outputs": [
        {
          "output_type": "display_data",
          "data": {
            "image/png": "[encoded data removed]",
            "text/plain": [
              "<Figure size 864x432 with 1 Axes>"
            ]
          },
          "metadata": {
            "tags": [],
            "needs_background": "light"
          }
        }
      ]
    },
    {
      "cell_type": "code",
      "metadata": {
        "id": "FS8Ax7rBbX-w",
        "colab": {
          "base_uri": "https://localhost:8080/",
          "height": 278
        },
        "outputId": "afaaafab-bbbc-428d-e314-c2f5226e12d3"
      },
      "source": [
        "boxplot2=sns.boxplot(data=dados,x=dados['Salario (x Sal Min)'],orient='h')\r\n",
        "#dados.head()"
      ],
      "execution_count": 16,
      "outputs": [
        {
          "output_type": "display_data",
          "data": {
            "image/png": "[encoded data removed]",
            "text/plain": [
              "<Figure size 432x288 with 1 Axes>"
            ]
          },
          "metadata": {
            "tags": [],
            "needs_background": "light"
          }
        }
      ]
    },
    {
      "cell_type": "markdown",
      "metadata": {
        "id": "1KE3SIiEiI4P"
      },
      "source": [
        "Calculando grau de assimetria "
      ]
    },
    {
      "cell_type": "code",
      "metadata": {
        "id": "DdU2-dSrfYHK",
        "colab": {
          "base_uri": "https://localhost:8080/",
          "height": 282
        },
        "outputId": "6731cb6a-9403-4422-af96-2c7858ce3839"
      },
      "source": [
        "mediana_salarios=dados['Salario (x Sal Min)'].median()\r\n",
        "\r\n",
        "u=[]\r\n",
        "v=[]\r\n",
        "\r\n",
        "salarios_ordenados=dados['Salario (x Sal Min)'].sort_values()\r\n",
        "\r\n",
        "for salario in salarios_ordenados:\r\n",
        "  diferença_mediana=abs(salario-mediana_salarios)\r\n",
        "\r\n",
        "  if salario<mediana_salarios:    \r\n",
        "    u.append(diferença_mediana)\r\n",
        "  else:\r\n",
        "    v.append(diferença_mediana)    \r\n",
        "\r\n",
        "v=sorted(v,reverse=True)\r\n",
        "\r\n",
        "lista_numeros1=[0,1,2,3,4,5,6,7,8,9,10,11,12,13,14,15,16,17]\r\n",
        "# lista_numeros2=[1,2,3,4,5,6,7,8,9,10,11,12,13,14,15,16,17,18]\r\n",
        "\r\n",
        "Df=pd.DataFrame({\"u\":u,\"v\":v,'ref1':lista_numeros1})\r\n",
        "\r\n",
        "plt.plot(lista_numeros1,lista_numeros1)\r\n",
        "plt.plot(Df.u,Df.v)"
      ],
      "execution_count": 20,
      "outputs": [
        {
          "output_type": "execute_result",
          "data": {
            "text/plain": [
              "[<matplotlib.lines.Line2D at 0x7f8467adfe80>]"
            ]
          },
          "metadata": {
            "tags": []
          },
          "execution_count": 20
        },
        {
          "output_type": "display_data",
          "data": {
            "image/png": "[encoded data removed]",
            "text/plain": [
              "<Figure size 432x288 with 1 Axes>"
            ]
          },
          "metadata": {
            "tags": [],
            "needs_background": "light"
          }
        }
      ]
    },
    {
      "cell_type": "markdown",
      "metadata": {
        "id": "Lpj8lPOBiPIO"
      },
      "source": [
        "RESULTADO: Observamos que a distancia entre a mediana e os pontos situados antes dela é menor que a distancia entre mediana e os pontos posteriores.\r\n",
        "Ou seja, observamos uma assimetria a esquerda."
      ]
    },
    {
      "cell_type": "code",
      "metadata": {
        "id": "kKvi5iRnlRi2",
        "colab": {
          "base_uri": "https://localhost:8080/",
          "height": 278
        },
        "outputId": "6512144e-e5f0-4d40-bd33-5042f9968131"
      },
      "source": [
        "boxplot3=sns.boxplot(data=notas)"
      ],
      "execution_count": 21,
      "outputs": [
        {
          "output_type": "display_data",
          "data": {
            "image/png": "[encoded data removed]",
            "text/plain": [
              "<Figure size 432x288 with 1 Axes>"
            ]
          },
          "metadata": {
            "tags": [],
            "needs_background": "light"
          }
        }
      ]
    },
    {
      "cell_type": "markdown",
      "metadata": {
        "id": "-IWTBZfrUrjH"
      },
      "source": [
        "## Capítulo 3 -Medidas de associação entre variáveis qualitativas"
      ]
    },
    {
      "cell_type": "markdown",
      "metadata": {
        "id": "r7E1hxeMUobK"
      },
      "source": [
        "De acordo com os dados vistos abaixo, que relacionam grau de escolaridade e região, é possível notar que não existe dependência entre os dados relacionados (variável não associadas). Isso se deve ao fato de que, normalmente, a população já apresenta o ensino médio com maior frequência para todas as regiões listadas.\r\n",
        "\r\n",
        "A frequencia de grau de instrução para cada região apresenta a mesma frequência, tendo todas as regiões um menor número de pessoas com ensino superior e um maior número com ensino médio. Por isso, podemos afirmar que o grau de instrução não depende exclusivamente da região da pessoa.\r\n",
        "\r\n",
        "Ou fator a ser observado é a probabilidade marginal de cada grau de instrução, que é reprodutivel - em termos numéricos - dentro de cada região"
      ]
    },
    {
      "cell_type": "code",
      "metadata": {
        "id": "U9_fATHfskPv",
        "colab": {
          "base_uri": "https://localhost:8080/",
          "height": 197
        },
        "outputId": "190e1c08-c138-4eae-cccc-a75cedbab690"
      },
      "source": [
        "tabela1=round(pd.crosstab(dados.Regiao,dados.grau_de_instrução,margins=True,normalize='index',margins_name=\"Total\")*100)\r\n",
        "tabela1\r\n",
        "# aqui é possivel ver que a frequência do grau de instrução se repete nos dados marginais"
      ],
      "execution_count": 22,
      "outputs": [
        {
          "output_type": "execute_result",
          "data": {
            "text/html": [
              "<div>\n",
              "<style scoped>\n",
              "    .dataframe tbody tr th:only-of-type {\n",
              "        vertical-align: middle;\n",
              "    }\n",
              "\n",
              "    .dataframe tbody tr th {\n",
              "        vertical-align: top;\n",
              "    }\n",
              "\n",
              "    .dataframe thead th {\n",
              "        text-align: right;\n",
              "    }\n",
              "</style>\n",
              "<table border=\"1\" class=\"dataframe\">\n",
              "  <thead>\n",
              "    <tr style=\"text-align: right;\">\n",
              "      <th>grau_de_instrução</th>\n",
              "      <th>ensino fundamental</th>\n",
              "      <th>ensino médio</th>\n",
              "      <th>superior</th>\n",
              "    </tr>\n",
              "    <tr>\n",
              "      <th>Regiao</th>\n",
              "      <th></th>\n",
              "      <th></th>\n",
              "      <th></th>\n",
              "    </tr>\n",
              "  </thead>\n",
              "  <tbody>\n",
              "    <tr>\n",
              "      <th>capital</th>\n",
              "      <td>36.0</td>\n",
              "      <td>45.0</td>\n",
              "      <td>18.0</td>\n",
              "    </tr>\n",
              "    <tr>\n",
              "      <th>interior</th>\n",
              "      <td>25.0</td>\n",
              "      <td>58.0</td>\n",
              "      <td>17.0</td>\n",
              "    </tr>\n",
              "    <tr>\n",
              "      <th>outra</th>\n",
              "      <td>38.0</td>\n",
              "      <td>46.0</td>\n",
              "      <td>15.0</td>\n",
              "    </tr>\n",
              "    <tr>\n",
              "      <th>Total</th>\n",
              "      <td>33.0</td>\n",
              "      <td>50.0</td>\n",
              "      <td>17.0</td>\n",
              "    </tr>\n",
              "  </tbody>\n",
              "</table>\n",
              "</div>"
            ],
            "text/plain": [
              "grau_de_instrução  ensino fundamental  ensino médio  superior\n",
              "Regiao                                                       \n",
              "capital                          36.0          45.0      18.0\n",
              "interior                         25.0          58.0      17.0\n",
              "outra                            38.0          46.0      15.0\n",
              "Total                            33.0          50.0      17.0"
            ]
          },
          "metadata": {
            "tags": []
          },
          "execution_count": 22
        }
      ]
    },
    {
      "cell_type": "code",
      "metadata": {
        "id": "lW-ypYa5F8Sj",
        "colab": {
          "base_uri": "https://localhost:8080/",
          "height": 167
        },
        "outputId": "54ad6ae4-d2de-4c1c-808a-d74e07397063"
      },
      "source": [
        "tabela2=round(pd.crosstab(dados.Regiao,dados.grau_de_instrução,margins=True,normalize='columns',margins_name=\"Total\")*100)\r\n",
        "tabela2"
      ],
      "execution_count": 23,
      "outputs": [
        {
          "output_type": "execute_result",
          "data": {
            "text/html": [
              "<div>\n",
              "<style scoped>\n",
              "    .dataframe tbody tr th:only-of-type {\n",
              "        vertical-align: middle;\n",
              "    }\n",
              "\n",
              "    .dataframe tbody tr th {\n",
              "        vertical-align: top;\n",
              "    }\n",
              "\n",
              "    .dataframe thead th {\n",
              "        text-align: right;\n",
              "    }\n",
              "</style>\n",
              "<table border=\"1\" class=\"dataframe\">\n",
              "  <thead>\n",
              "    <tr style=\"text-align: right;\">\n",
              "      <th>grau_de_instrução</th>\n",
              "      <th>ensino fundamental</th>\n",
              "      <th>ensino médio</th>\n",
              "      <th>superior</th>\n",
              "      <th>Total</th>\n",
              "    </tr>\n",
              "    <tr>\n",
              "      <th>Regiao</th>\n",
              "      <th></th>\n",
              "      <th></th>\n",
              "      <th></th>\n",
              "      <th></th>\n",
              "    </tr>\n",
              "  </thead>\n",
              "  <tbody>\n",
              "    <tr>\n",
              "      <th>capital</th>\n",
              "      <td>33.0</td>\n",
              "      <td>28.0</td>\n",
              "      <td>33.0</td>\n",
              "      <td>31.0</td>\n",
              "    </tr>\n",
              "    <tr>\n",
              "      <th>interior</th>\n",
              "      <td>25.0</td>\n",
              "      <td>39.0</td>\n",
              "      <td>33.0</td>\n",
              "      <td>33.0</td>\n",
              "    </tr>\n",
              "    <tr>\n",
              "      <th>outra</th>\n",
              "      <td>42.0</td>\n",
              "      <td>33.0</td>\n",
              "      <td>33.0</td>\n",
              "      <td>36.0</td>\n",
              "    </tr>\n",
              "  </tbody>\n",
              "</table>\n",
              "</div>"
            ],
            "text/plain": [
              "grau_de_instrução  ensino fundamental  ensino médio  superior  Total\n",
              "Regiao                                                              \n",
              "capital                          33.0          28.0      33.0   31.0\n",
              "interior                         25.0          39.0      33.0   33.0\n",
              "outra                            42.0          33.0      33.0   36.0"
            ]
          },
          "metadata": {
            "tags": []
          },
          "execution_count": 23
        }
      ]
    },
    {
      "cell_type": "code",
      "metadata": {
        "id": "trxb2JDV-B2_",
        "colab": {
          "base_uri": "https://localhost:8080/",
          "height": 167
        },
        "outputId": "63ccec00-b018-4499-c84b-2d966ab76832"
      },
      "source": [
        "exercicio9 = {'Menos de 4 meses': [64,104,27], 'De 4 a 8 meses': [120,175,48],'Mais de 8 meses':[16,21,5]}\r\n",
        "\r\n",
        "exercicio_9=pd.DataFrame(data=exercicio9,index=['A','B','C'])\r\n",
        "# exercicio9.rename(index={\"0\":'teste'},inplace=True)\r\n",
        "\r\n",
        "menos_4_meses=sum(exercicio9['Menos de 4 meses'])\r\n",
        "de_4_a_8_meses=sum(exercicio9['De 4 a 8 meses'])\r\n",
        "mais_de_8_meses=sum(exercicio9['Mais de 8 meses'])\r\n",
        "total=menos_4_meses+de_4_a_8_meses+mais_de_8_meses\r\n",
        "\r\n",
        "menos_de_4=[]\r\n",
        "de_4_a_8=[]\r\n",
        "mais_de_8=[]\r\n",
        "\r\n",
        "for numero in [64,104,27]:\r\n",
        "  i=numero/menos_4_meses\r\n",
        "  menos_de_4.append(i*100)\r\n",
        "menos_de_4.append(menos_4_meses*100/total)\r\n",
        "\r\n",
        "for numero in [120,175,48]:\r\n",
        "  i=numero/de_4_a_8_meses\r\n",
        "  de_4_a_8.append(i*100)\r\n",
        "de_4_a_8.append(de_4_a_8_meses*100/total)  \r\n",
        "\r\n",
        "for numero in [16,21,5]:\r\n",
        "  i=numero/mais_de_8_meses\r\n",
        "  mais_de_8.append(i*100)\r\n",
        "mais_de_8.append(mais_de_8_meses*100/total)  \r\n",
        "\r\n",
        "Total=[(64+120+16),(104+175+21),(27+48+5)]\r\n",
        "totalizado=sum(Total)\r\n",
        "Total=[round(i*100/totalizado,2) for i in Total]\r\n",
        "Total.append(totalizado)\r\n",
        "\r\n",
        "\r\n",
        "exercicio9 = {'Menos de 4 meses': menos_de_4, 'De 4 a 8 meses': de_4_a_8,'Mais de 8 meses':mais_de_8,'Total':Total}\r\n",
        "exercicio_9=pd.DataFrame(data=exercicio9,index=['A','B','C','Total'])\r\n",
        "\r\n",
        "exercicio_9"
      ],
      "execution_count": 24,
      "outputs": [
        {
          "output_type": "execute_result",
          "data": {
            "text/html": [
              "<div>\n",
              "<style scoped>\n",
              "    .dataframe tbody tr th:only-of-type {\n",
              "        vertical-align: middle;\n",
              "    }\n",
              "\n",
              "    .dataframe tbody tr th {\n",
              "        vertical-align: top;\n",
              "    }\n",
              "\n",
              "    .dataframe thead th {\n",
              "        text-align: right;\n",
              "    }\n",
              "</style>\n",
              "<table border=\"1\" class=\"dataframe\">\n",
              "  <thead>\n",
              "    <tr style=\"text-align: right;\">\n",
              "      <th></th>\n",
              "      <th>Menos de 4 meses</th>\n",
              "      <th>De 4 a 8 meses</th>\n",
              "      <th>Mais de 8 meses</th>\n",
              "      <th>Total</th>\n",
              "    </tr>\n",
              "  </thead>\n",
              "  <tbody>\n",
              "    <tr>\n",
              "      <th>A</th>\n",
              "      <td>32.820513</td>\n",
              "      <td>34.985423</td>\n",
              "      <td>38.095238</td>\n",
              "      <td>34.48</td>\n",
              "    </tr>\n",
              "    <tr>\n",
              "      <th>B</th>\n",
              "      <td>53.333333</td>\n",
              "      <td>51.020408</td>\n",
              "      <td>50.000000</td>\n",
              "      <td>51.72</td>\n",
              "    </tr>\n",
              "    <tr>\n",
              "      <th>C</th>\n",
              "      <td>13.846154</td>\n",
              "      <td>13.994169</td>\n",
              "      <td>11.904762</td>\n",
              "      <td>13.79</td>\n",
              "    </tr>\n",
              "    <tr>\n",
              "      <th>Total</th>\n",
              "      <td>33.620690</td>\n",
              "      <td>59.137931</td>\n",
              "      <td>7.241379</td>\n",
              "      <td>580.00</td>\n",
              "    </tr>\n",
              "  </tbody>\n",
              "</table>\n",
              "</div>"
            ],
            "text/plain": [
              "       Menos de 4 meses  De 4 a 8 meses  Mais de 8 meses   Total\n",
              "A             32.820513       34.985423        38.095238   34.48\n",
              "B             53.333333       51.020408        50.000000   51.72\n",
              "C             13.846154       13.994169        11.904762   13.79\n",
              "Total         33.620690       59.137931         7.241379  580.00"
            ]
          },
          "metadata": {
            "tags": []
          },
          "execution_count": 24
        }
      ]
    },
    {
      "cell_type": "markdown",
      "metadata": {
        "id": "ciko-Z---FKF"
      },
      "source": [
        "Para o exemplo acima, as compainhas A, B e C não possuem diferença significativa em termos de tempo de eficácia do tratamento. Nos três recortes de tempo, todas mantiveram sua fatia de participação muito próxima da média. "
      ]
    },
    {
      "cell_type": "markdown",
      "metadata": {
        "id": "87xkGESwif-I"
      },
      "source": [
        "## Cálculo de qui-quadrado de Pearson"
      ]
    },
    {
      "cell_type": "code",
      "metadata": {
        "id": "F4Ri7BZOISQo",
        "colab": {
          "base_uri": "https://localhost:8080/",
          "height": 167
        },
        "outputId": "91741209-7599-4982-cf4a-df95c63a8cab"
      },
      "source": [
        "tabela3=round(pd.crosstab(dados.Regiao,dados.grau_de_instrução,normalize='index')*100)\r\n",
        "tabela3"
      ],
      "execution_count": 25,
      "outputs": [
        {
          "output_type": "execute_result",
          "data": {
            "text/html": [
              "<div>\n",
              "<style scoped>\n",
              "    .dataframe tbody tr th:only-of-type {\n",
              "        vertical-align: middle;\n",
              "    }\n",
              "\n",
              "    .dataframe tbody tr th {\n",
              "        vertical-align: top;\n",
              "    }\n",
              "\n",
              "    .dataframe thead th {\n",
              "        text-align: right;\n",
              "    }\n",
              "</style>\n",
              "<table border=\"1\" class=\"dataframe\">\n",
              "  <thead>\n",
              "    <tr style=\"text-align: right;\">\n",
              "      <th>grau_de_instrução</th>\n",
              "      <th>ensino fundamental</th>\n",
              "      <th>ensino médio</th>\n",
              "      <th>superior</th>\n",
              "    </tr>\n",
              "    <tr>\n",
              "      <th>Regiao</th>\n",
              "      <th></th>\n",
              "      <th></th>\n",
              "      <th></th>\n",
              "    </tr>\n",
              "  </thead>\n",
              "  <tbody>\n",
              "    <tr>\n",
              "      <th>capital</th>\n",
              "      <td>36.0</td>\n",
              "      <td>45.0</td>\n",
              "      <td>18.0</td>\n",
              "    </tr>\n",
              "    <tr>\n",
              "      <th>interior</th>\n",
              "      <td>25.0</td>\n",
              "      <td>58.0</td>\n",
              "      <td>17.0</td>\n",
              "    </tr>\n",
              "    <tr>\n",
              "      <th>outra</th>\n",
              "      <td>38.0</td>\n",
              "      <td>46.0</td>\n",
              "      <td>15.0</td>\n",
              "    </tr>\n",
              "  </tbody>\n",
              "</table>\n",
              "</div>"
            ],
            "text/plain": [
              "grau_de_instrução  ensino fundamental  ensino médio  superior\n",
              "Regiao                                                       \n",
              "capital                          36.0          45.0      18.0\n",
              "interior                         25.0          58.0      17.0\n",
              "outra                            38.0          46.0      15.0"
            ]
          },
          "metadata": {
            "tags": []
          },
          "execution_count": 25
        }
      ]
    },
    {
      "cell_type": "code",
      "metadata": {
        "colab": {
          "base_uri": "https://localhost:8080/"
        },
        "id": "ON2ljhrJivrC",
        "outputId": "d09da042-3fe4-48fd-abd5-29351d4167be"
      },
      "source": [
        "total_fundamental=(round(dados.grau_de_instrução.value_counts(normalize=True),2)*100)[1]\r\n",
        "total_medio=(round(dados.grau_de_instrução.value_counts(normalize=True),2)*100)[0]\r\n",
        "total_superior=(round(dados.grau_de_instrução.value_counts(normalize=True),2)*100)[2]\r\n",
        "\r\n",
        "n=tabela3.shape[0]*tabela3.shape[1]\r\n",
        "lista_qui_quadrado=[]\r\n",
        "\r\n",
        "for numero in tabela3['ensino fundamental']:\r\n",
        "  desvio_relativo=((numero-total_fundamental)**2)/n\r\n",
        "  lista_qui_quadrado.append(desvio_relativo)\r\n",
        "\r\n",
        "for numero in tabela3['ensino médio']:\r\n",
        "  desvio_relativo=((numero-total_medio)**2)/n\r\n",
        "  lista_qui_quadrado.append(desvio_relativo)\r\n",
        "\r\n",
        "for numero in tabela3['superior']:\r\n",
        "  desvio_relativo=((numero-total_superior)**2)/n\r\n",
        "  lista_qui_quadrado.append(desvio_relativo)  \r\n",
        "\r\n",
        "qui_quadrado=round(sum(lista_qui_quadrado),2)\r\n",
        "qui_quadrado"
      ],
      "execution_count": 26,
      "outputs": [
        {
          "output_type": "execute_result",
          "data": {
            "text/plain": [
              "23.11"
            ]
          },
          "metadata": {
            "tags": []
          },
          "execution_count": 26
        }
      ]
    },
    {
      "cell_type": "markdown",
      "metadata": {
        "id": "W2unXeiQi-Vw"
      },
      "source": [
        "Valor de qui-quadrado obtido acima é pequeno em relação aos exemplos indicados no livros. Assim, pode-se inferir que esses dados possuem uma menor associação entre as variaveis. Ou seja, para esse conjunto de dados, o grau de instrução depende pouco da região do funcionário.\r\n",
        "\r\n",
        "Quando maior o valor de qui-quadrado, mais o grau de associação entre as variáveis"
      ]
    },
    {
      "cell_type": "code",
      "metadata": {
        "colab": {
          "base_uri": "https://localhost:8080/"
        },
        "id": "S5BYv5f9cdXi",
        "outputId": "f9c509aa-d32c-4a6e-9b56-27ebed2f0239"
      },
      "source": [
        "execicios_19={'Urbano':[30,60],'Suburbano':[35,25],'Rural':[35,15]}\r\n",
        "indice_19=['A favor','Contra']\r\n",
        "\r\n",
        "exercicios_19_tabela=pd.DataFrame(data=execicios_19,index=indice_19)\r\n",
        "\r\n",
        "exercicios_19_tabela\r\n",
        "exercicios_19_tabela.loc[:,'Total'] = exercicios_19_tabela.sum(numeric_only=True, axis=1)\r\n",
        "\r\n",
        "exercicios_19_tabela['Urbano_percentual']=exercicios_19_tabela['Urbano'].apply(lambda x: 100 * x / (exercicios_19_tabela['Urbano'].sum()))\r\n",
        "exercicios_19_tabela['Suburbano_percentual']=exercicios_19_tabela['Suburbano'].apply(lambda x: 100 * x / (exercicios_19_tabela['Suburbano'].sum()))\r\n",
        "exercicios_19_tabela['Rural_percentual']=exercicios_19_tabela['Rural'].apply(lambda x: 100 * x / (exercicios_19_tabela['Rural'].sum()))\r\n",
        "\r\n",
        "percentual_a_favor=50\r\n",
        "percentual_contra=percentual_a_favor\r\n",
        " \r\n",
        "lista_erro_qui_quadrado=[]\r\n",
        "\r\n",
        "for numero in exercicios_19_tabela['Suburbano_percentual']:\r\n",
        "  erro_normalizado=((numero-percentual_a_favor)**2)/percentual_a_favor\r\n",
        "  lista_erro_qui_quadrado.append(erro_normalizado)\r\n",
        "\r\n",
        "for numero in exercicios_19_tabela['Urbano_percentual']:\r\n",
        "  erro_normalizado=((numero-percentual_a_favor)**2)/percentual_a_favor\r\n",
        "  lista_erro_qui_quadrado.append(erro_normalizado)\r\n",
        "\r\n",
        "for numero in exercicios_19_tabela['Rural_percentual']:\r\n",
        "  erro_normalizado=((numero-percentual_a_favor)**2)/percentual_a_favor\r\n",
        "  lista_erro_qui_quadrado.append(erro_normalizado)    \r\n",
        "\r\n",
        "qui_quadrado_exercicio19=sum(lista_erro_qui_quadrado)\r\n",
        "\r\n",
        "qui_quadrado_exercicio19"
      ],
      "execution_count": 27,
      "outputs": [
        {
          "output_type": "execute_result",
          "data": {
            "text/plain": [
              "29.888888888888893"
            ]
          },
          "metadata": {
            "tags": []
          },
          "execution_count": 27
        }
      ]
    },
    {
      "cell_type": "code",
      "metadata": {
        "id": "Am4q8avhecE5"
      },
      "source": [
        "  # total_urbano=exercicios_19_tabela.Urbano.sum()\r\n",
        "# total_suburbano=exercicios_19_tabela.Suburbano.sum()\r\n",
        "# total_rural=exercicios_19_tabela.Rural.sum()\r\n",
        "\r\n",
        "# n=exercicios_19_tabela.shape[0]*exercicios_19_tabela.shape[1]\r\n",
        "# lista_qui_quadrado_exercicios_19_tabela=[]\r\n",
        "\r\n",
        "# for numero in exercicios_19_tabela['Urbano']:\r\n",
        "#   desvio_relativo=((numero-total_urbano)**2)/n\r\n",
        "#   lista_qui_quadrado_exercicios_19_tabela.append(desvio_relativo)\r\n",
        "\r\n",
        "# for numero in exercicios_19_tabela['Suburbano']:\r\n",
        "#   desvio_relativo=((numero-total_suburbano)**2)/n\r\n",
        "#   lista_qui_quadrado_exercicios_19_tabela.append(desvio_relativo)\r\n",
        "\r\n",
        "# for numero in exercicios_19_tabela['Rural']:\r\n",
        "#   desvio_relativo=((numero-total_rural)**2)/n\r\n",
        "#   lista_qui_quadrado_exercicios_19_tabela.append(desvio_relativo)  \r\n",
        "\r\n",
        "# qui_quadrado_exercicio19=round(sum(lista_qui_quadrado_exercicios_19_tabela),2)\r\n",
        "# qui_quadrado_exercicio19"
      ],
      "execution_count": null,
      "outputs": []
    },
    {
      "cell_type": "markdown",
      "metadata": {
        "id": "SilIXO91xFCX"
      },
      "source": [
        "## Grau de associação entre Variáveis Quantitativas e Qualitativas"
      ]
    },
    {
      "cell_type": "markdown",
      "metadata": {
        "id": "QHb64YPvBp_C"
      },
      "source": [
        "Para tratar do grau de associoação entre dados temos duas possíveis abordagens:\r\n",
        "- Calculo de qui-quadrado - utilizado para dados agrupados, baseando-se na homogeneidade dos grupos formados de acordo com sua variância.\r\n",
        "\r\n",
        "- Calculo do coeficiente de correlação - utilizado para dados não agrupados. Nesse cálculo, o conjunto de dados tem seu centro cartesiano tranladado para as médias das coordenadas. Depois calcula-se o desvio em relação da média, que é normalizado utilizando-se o desvio padrão de pada coordenada. O coeficiente de corelação é a média entre o produtos dos desvios normalizados."
      ]
    },
    {
      "cell_type": "code",
      "metadata": {
        "id": "2TSsmGwexW8i",
        "colab": {
          "base_uri": "https://localhost:8080/",
          "height": 167
        },
        "outputId": "82c8005d-325d-4a0b-d9b6-86f3f4396d1a"
      },
      "source": [
        "# tabela4=dados['grau_de_instrução'].value_counts()\r\n",
        "tabela_contagem=dados[['Salario (x Sal Min)','grau_de_instrução']].groupby(by='grau_de_instrução').count()\r\n",
        "tabela_media=dados[['Salario (x Sal Min)','grau_de_instrução']].groupby(by='grau_de_instrução').mean()\r\n",
        "tabela_std=dados[['Salario (x Sal Min)','grau_de_instrução']].groupby(by='grau_de_instrução').std()\r\n",
        "tabela_var=dados[['Salario (x Sal Min)','grau_de_instrução']].groupby(by='grau_de_instrução').var()\r\n",
        "tabela_min=dados[['Salario (x Sal Min)','grau_de_instrução']].groupby(by='grau_de_instrução').min()\r\n",
        "tabela_max=dados[['Salario (x Sal Min)','grau_de_instrução']].groupby(by='grau_de_instrução').max()\r\n",
        "tabela_quantile1=dados[['Salario (x Sal Min)','grau_de_instrução']].groupby(by='grau_de_instrução').quantile(0.25)\r\n",
        "tabela_quantile2=dados[['Salario (x Sal Min)','grau_de_instrução']].groupby(by='grau_de_instrução').quantile(0.5)\r\n",
        "tabela_quantile3=dados[['Salario (x Sal Min)','grau_de_instrução']].groupby(by='grau_de_instrução').quantile(0.75)\r\n",
        "\r\n",
        "lista_de_tabelas=[tabela_std,tabela_var,tabela_min,tabela_max,tabela_quantile1,tabela_quantile2,tabela_quantile3]\r\n",
        "tabela_total=tabela_contagem.merge(tabela_media, how='inner', on='grau_de_instrução')\r\n",
        "\r\n",
        "for tabela in lista_de_tabelas:\r\n",
        "  tabela_total=tabela_total.merge(tabela,how='inner', on='grau_de_instrução')\r\n",
        "\r\n",
        "tabela_total.columns=['n','media','std','var','min','max','q1','q2','q3']\r\n",
        "\r\n",
        "round(tabela_total,2)"
      ],
      "execution_count": 29,
      "outputs": [
        {
          "output_type": "execute_result",
          "data": {
            "text/html": [
              "<div>\n",
              "<style scoped>\n",
              "    .dataframe tbody tr th:only-of-type {\n",
              "        vertical-align: middle;\n",
              "    }\n",
              "\n",
              "    .dataframe tbody tr th {\n",
              "        vertical-align: top;\n",
              "    }\n",
              "\n",
              "    .dataframe thead th {\n",
              "        text-align: right;\n",
              "    }\n",
              "</style>\n",
              "<table border=\"1\" class=\"dataframe\">\n",
              "  <thead>\n",
              "    <tr style=\"text-align: right;\">\n",
              "      <th></th>\n",
              "      <th>n</th>\n",
              "      <th>media</th>\n",
              "      <th>std</th>\n",
              "      <th>var</th>\n",
              "      <th>min</th>\n",
              "      <th>max</th>\n",
              "      <th>q1</th>\n",
              "      <th>q2</th>\n",
              "      <th>q3</th>\n",
              "    </tr>\n",
              "    <tr>\n",
              "      <th>grau_de_instrução</th>\n",
              "      <th></th>\n",
              "      <th></th>\n",
              "      <th></th>\n",
              "      <th></th>\n",
              "      <th></th>\n",
              "      <th></th>\n",
              "      <th></th>\n",
              "      <th></th>\n",
              "      <th></th>\n",
              "    </tr>\n",
              "  </thead>\n",
              "  <tbody>\n",
              "    <tr>\n",
              "      <th>ensino fundamental</th>\n",
              "      <td>12</td>\n",
              "      <td>7.84</td>\n",
              "      <td>2.96</td>\n",
              "      <td>8.74</td>\n",
              "      <td>4.00</td>\n",
              "      <td>13.85</td>\n",
              "      <td>6.01</td>\n",
              "      <td>7.12</td>\n",
              "      <td>9.16</td>\n",
              "    </tr>\n",
              "    <tr>\n",
              "      <th>ensino médio</th>\n",
              "      <td>18</td>\n",
              "      <td>11.53</td>\n",
              "      <td>3.72</td>\n",
              "      <td>13.80</td>\n",
              "      <td>5.73</td>\n",
              "      <td>19.40</td>\n",
              "      <td>8.84</td>\n",
              "      <td>10.91</td>\n",
              "      <td>14.42</td>\n",
              "    </tr>\n",
              "    <tr>\n",
              "      <th>superior</th>\n",
              "      <td>6</td>\n",
              "      <td>16.47</td>\n",
              "      <td>4.50</td>\n",
              "      <td>20.27</td>\n",
              "      <td>10.53</td>\n",
              "      <td>23.30</td>\n",
              "      <td>13.65</td>\n",
              "      <td>16.74</td>\n",
              "      <td>18.38</td>\n",
              "    </tr>\n",
              "  </tbody>\n",
              "</table>\n",
              "</div>"
            ],
            "text/plain": [
              "                     n  media   std    var    min    max     q1     q2     q3\n",
              "grau_de_instrução                                                            \n",
              "ensino fundamental  12   7.84  2.96   8.74   4.00  13.85   6.01   7.12   9.16\n",
              "ensino médio        18  11.53  3.72  13.80   5.73  19.40   8.84  10.91  14.42\n",
              "superior             6  16.47  4.50  20.27  10.53  23.30  13.65  16.74  18.38"
            ]
          },
          "metadata": {
            "tags": []
          },
          "execution_count": 29
        }
      ]
    },
    {
      "cell_type": "code",
      "metadata": {
        "id": "_HJg2xQDxaDk",
        "colab": {
          "base_uri": "https://localhost:8080/"
        },
        "outputId": "fa5810fd-1271-4a26-aae4-5b5d6c654b4a"
      },
      "source": [
        "variancia_total=dados['Salario (x Sal Min)'].var() #vars\r\n",
        "total_de_dados=dados.shape[0]\r\n",
        "tabela_produto=tabela_contagem*tabela_var\r\n",
        "varS=tabela_produto.sum()/total_de_dados\r\n",
        "\r\n",
        "R2=1-(varS/variancia_total)\r\n",
        "R2[0]"
      ],
      "execution_count": 32,
      "outputs": [
        {
          "output_type": "execute_result",
          "data": {
            "text/plain": [
              "0.37308087722236694"
            ]
          },
          "metadata": {
            "tags": []
          },
          "execution_count": 32
        }
      ]
    },
    {
      "cell_type": "markdown",
      "metadata": {
        "id": "x4yUEwZ7JJaX"
      },
      "source": [
        "Observando o resultado obtido para R2 vemos que existe um baixo grau de associação entre o grau de instrução e o salário recebido.\r\n",
        "Isso foi constatato ao analizar o grau de dispersão dos dados, através da variancia, dentro de um mesmo grupo. Assim notamos que a variável salário tem baixa correlação com a variavel grau de instrução.\r\n",
        "Com o valor de R2 obtido afirmamos que 37% da variancia dos salarios é explicada em função do grau de instrução. \r\n",
        "\r\n",
        "Calculo agrupando dados "
      ]
    },
    {
      "cell_type": "code",
      "metadata": {
        "id": "k1YDppxCJKK_",
        "colab": {
          "base_uri": "https://localhost:8080/",
          "height": 167
        },
        "outputId": "4b246307-0c50-4fc8-b1dc-275732058ebd"
      },
      "source": [
        "tabela_contagem=dados[['Salario (x Sal Min)','Regiao']].groupby(by='Regiao').count()\r\n",
        "tabela_media=dados[['Salario (x Sal Min)','Regiao']].groupby(by='Regiao').mean()\r\n",
        "tabela_std=dados[['Salario (x Sal Min)','Regiao']].groupby(by='Regiao').std()\r\n",
        "tabela_var=dados[['Salario (x Sal Min)','Regiao']].groupby(by='Regiao').var()\r\n",
        "tabela_min=dados[['Salario (x Sal Min)','Regiao']].groupby(by='Regiao').min()\r\n",
        "tabela_max=dados[['Salario (x Sal Min)','Regiao']].groupby(by='Regiao').max()\r\n",
        "tabela_quantile1=dados[['Salario (x Sal Min)','Regiao']].groupby(by='Regiao').quantile(0.25)\r\n",
        "tabela_quantile2=dados[['Salario (x Sal Min)','Regiao']].groupby(by='Regiao').quantile(0.5)\r\n",
        "tabela_quantile3=dados[['Salario (x Sal Min)','Regiao']].groupby(by='Regiao').quantile(0.75)\r\n",
        "\r\n",
        "lista_de_tabelas=[tabela_std,tabela_var,tabela_min,tabela_max,tabela_quantile1,tabela_quantile2,tabela_quantile3]\r\n",
        "tabela_total2=tabela_contagem.merge(tabela_media, how='inner', on='Regiao')\r\n",
        "\r\n",
        "for tabela in lista_de_tabelas:\r\n",
        "  tabela_total2=tabela_total2.merge(tabela,how='inner', on='Regiao')\r\n",
        "\r\n",
        "tabela_total2.columns=['n','media','std','var','min','max','q1','q2','q3']\r\n",
        "tabela_total2"
      ],
      "execution_count": 33,
      "outputs": [
        {
          "output_type": "execute_result",
          "data": {
            "text/html": [
              "<div>\n",
              "<style scoped>\n",
              "    .dataframe tbody tr th:only-of-type {\n",
              "        vertical-align: middle;\n",
              "    }\n",
              "\n",
              "    .dataframe tbody tr th {\n",
              "        vertical-align: top;\n",
              "    }\n",
              "\n",
              "    .dataframe thead th {\n",
              "        text-align: right;\n",
              "    }\n",
              "</style>\n",
              "<table border=\"1\" class=\"dataframe\">\n",
              "  <thead>\n",
              "    <tr style=\"text-align: right;\">\n",
              "      <th></th>\n",
              "      <th>n</th>\n",
              "      <th>media</th>\n",
              "      <th>std</th>\n",
              "      <th>var</th>\n",
              "      <th>min</th>\n",
              "      <th>max</th>\n",
              "      <th>q1</th>\n",
              "      <th>q2</th>\n",
              "      <th>q3</th>\n",
              "    </tr>\n",
              "    <tr>\n",
              "      <th>Regiao</th>\n",
              "      <th></th>\n",
              "      <th></th>\n",
              "      <th></th>\n",
              "      <th></th>\n",
              "      <th></th>\n",
              "      <th></th>\n",
              "      <th></th>\n",
              "      <th></th>\n",
              "      <th></th>\n",
              "    </tr>\n",
              "  </thead>\n",
              "  <tbody>\n",
              "    <tr>\n",
              "      <th>capital</th>\n",
              "      <td>11</td>\n",
              "      <td>11.455455</td>\n",
              "      <td>5.476653</td>\n",
              "      <td>29.993727</td>\n",
              "      <td>4.56</td>\n",
              "      <td>19.40</td>\n",
              "      <td>7.490</td>\n",
              "      <td>9.770</td>\n",
              "      <td>16.625</td>\n",
              "    </tr>\n",
              "    <tr>\n",
              "      <th>interior</th>\n",
              "      <td>12</td>\n",
              "      <td>11.550000</td>\n",
              "      <td>5.296055</td>\n",
              "      <td>28.048200</td>\n",
              "      <td>4.00</td>\n",
              "      <td>23.30</td>\n",
              "      <td>7.805</td>\n",
              "      <td>10.645</td>\n",
              "      <td>14.695</td>\n",
              "    </tr>\n",
              "    <tr>\n",
              "      <th>outra</th>\n",
              "      <td>13</td>\n",
              "      <td>10.445385</td>\n",
              "      <td>3.145453</td>\n",
              "      <td>9.893877</td>\n",
              "      <td>5.73</td>\n",
              "      <td>16.22</td>\n",
              "      <td>8.740</td>\n",
              "      <td>9.800</td>\n",
              "      <td>12.790</td>\n",
              "    </tr>\n",
              "  </tbody>\n",
              "</table>\n",
              "</div>"
            ],
            "text/plain": [
              "           n      media       std        var  ...    max     q1      q2      q3\n",
              "Regiao                                        ...                              \n",
              "capital   11  11.455455  5.476653  29.993727  ...  19.40  7.490   9.770  16.625\n",
              "interior  12  11.550000  5.296055  28.048200  ...  23.30  7.805  10.645  14.695\n",
              "outra     13  10.445385  3.145453   9.893877  ...  16.22  8.740   9.800  12.790\n",
              "\n",
              "[3 rows x 9 columns]"
            ]
          },
          "metadata": {
            "tags": []
          },
          "execution_count": 33
        }
      ]
    },
    {
      "cell_type": "code",
      "metadata": {
        "id": "y2Fa3ssULOYz",
        "colab": {
          "base_uri": "https://localhost:8080/"
        },
        "outputId": "6e425307-f7a9-4789-81ec-4924ab68700d"
      },
      "source": [
        "variancia_total=dados['Salario (x Sal Min)'].var() #vars\r\n",
        "total_de_dados=dados.shape[0]\r\n",
        "tabela_produto2=tabela_contagem*tabela_var\r\n",
        "varS2=tabela_produto2.sum()/total_de_dados\r\n",
        "\r\n",
        "R2=1-(varS2/variancia_total)\r\n",
        "R2[0]"
      ],
      "execution_count": 35,
      "outputs": [
        {
          "output_type": "execute_result",
          "data": {
            "text/plain": [
              "-0.04952169686226271"
            ]
          },
          "metadata": {
            "tags": []
          },
          "execution_count": 35
        }
      ]
    },
    {
      "cell_type": "markdown",
      "metadata": {
        "id": "7sYLY-iKL1bw"
      },
      "source": [
        "Acima observamos uma correlação ainda menor entre salário e a região do funcionário. Apenas 4,9% da variabilidade dos salários são explicados pela região do funcionário. Note que na tabela resumo os valores internos são muito próximos entre si, o que indica que os dados possuem alguma caractarística externa à região do funcionário, ou seja, a população possui uma ordenação de independe da região."
      ]
    },
    {
      "cell_type": "code",
      "metadata": {
        "colab": {
          "base_uri": "https://localhost:8080/",
          "height": 137
        },
        "id": "qstN1lRaMQDo",
        "outputId": "f022b721-4141-4dbc-87fc-117a802e736d"
      },
      "source": [
        "tabela_contagem=dados[['Anos','Estado Civil']].groupby(by='Estado Civil').count()\r\n",
        "tabela_media=dados[['Anos','Estado Civil']].groupby(by='Estado Civil').mean()\r\n",
        "tabela_std=dados[['Anos','Estado Civil']].groupby(by='Estado Civil').std()\r\n",
        "tabela_var=dados[['Anos','Estado Civil']].groupby(by='Estado Civil').var()\r\n",
        "tabela_min=dados[['Anos','Estado Civil']].groupby(by='Estado Civil').min()\r\n",
        "tabela_max=dados[['Anos','Estado Civil']].groupby(by='Estado Civil').max()\r\n",
        "tabela_quantile1=dados[['Anos','Estado Civil']].groupby(by='Estado Civil').quantile(0.25)\r\n",
        "tabela_quantile2=dados[['Anos','Estado Civil']].groupby(by='Estado Civil').quantile(0.5)\r\n",
        "tabela_quantile3=dados[['Anos','Estado Civil']].groupby(by='Estado Civil').quantile(0.75)\r\n",
        "\r\n",
        "lista_de_tabelas=[tabela_std,tabela_var,tabela_min,tabela_max,tabela_quantile1,tabela_quantile2,tabela_quantile3]\r\n",
        "tabela_total2=tabela_contagem.merge(tabela_media, how='inner', on='Estado Civil')\r\n",
        "\r\n",
        "for tabela in lista_de_tabelas:\r\n",
        "  tabela_total2=tabela_total2.merge(tabela,how='inner', on='Estado Civil')\r\n",
        "\r\n",
        "tabela_total2.columns=['n','media','std','var','min','max','q1','q2','q3']\r\n",
        "tabela_total2"
      ],
      "execution_count": 36,
      "outputs": [
        {
          "output_type": "execute_result",
          "data": {
            "text/html": [
              "<div>\n",
              "<style scoped>\n",
              "    .dataframe tbody tr th:only-of-type {\n",
              "        vertical-align: middle;\n",
              "    }\n",
              "\n",
              "    .dataframe tbody tr th {\n",
              "        vertical-align: top;\n",
              "    }\n",
              "\n",
              "    .dataframe thead th {\n",
              "        text-align: right;\n",
              "    }\n",
              "</style>\n",
              "<table border=\"1\" class=\"dataframe\">\n",
              "  <thead>\n",
              "    <tr style=\"text-align: right;\">\n",
              "      <th></th>\n",
              "      <th>n</th>\n",
              "      <th>media</th>\n",
              "      <th>std</th>\n",
              "      <th>var</th>\n",
              "      <th>min</th>\n",
              "      <th>max</th>\n",
              "      <th>q1</th>\n",
              "      <th>q2</th>\n",
              "      <th>q3</th>\n",
              "    </tr>\n",
              "    <tr>\n",
              "      <th>Estado Civil</th>\n",
              "      <th></th>\n",
              "      <th></th>\n",
              "      <th></th>\n",
              "      <th></th>\n",
              "      <th></th>\n",
              "      <th></th>\n",
              "      <th></th>\n",
              "      <th></th>\n",
              "      <th></th>\n",
              "    </tr>\n",
              "  </thead>\n",
              "  <tbody>\n",
              "    <tr>\n",
              "      <th>casado</th>\n",
              "      <td>20</td>\n",
              "      <td>35.150</td>\n",
              "      <td>5.896252</td>\n",
              "      <td>34.765789</td>\n",
              "      <td>26</td>\n",
              "      <td>48</td>\n",
              "      <td>30.75</td>\n",
              "      <td>34.5</td>\n",
              "      <td>39.25</td>\n",
              "    </tr>\n",
              "    <tr>\n",
              "      <th>solteiro</th>\n",
              "      <td>16</td>\n",
              "      <td>33.875</td>\n",
              "      <td>7.804913</td>\n",
              "      <td>60.916667</td>\n",
              "      <td>20</td>\n",
              "      <td>46</td>\n",
              "      <td>26.75</td>\n",
              "      <td>35.5</td>\n",
              "      <td>40.25</td>\n",
              "    </tr>\n",
              "  </tbody>\n",
              "</table>\n",
              "</div>"
            ],
            "text/plain": [
              "               n   media       std        var  min  max     q1    q2     q3\n",
              "Estado Civil                                                               \n",
              "casado        20  35.150  5.896252  34.765789   26   48  30.75  34.5  39.25\n",
              "solteiro      16  33.875  7.804913  60.916667   20   46  26.75  35.5  40.25"
            ]
          },
          "metadata": {
            "tags": []
          },
          "execution_count": 36
        }
      ]
    },
    {
      "cell_type": "code",
      "metadata": {
        "colab": {
          "base_uri": "https://localhost:8080/"
        },
        "id": "eTgdW1C9Vw_d",
        "outputId": "36d4200c-b1e6-444c-faa7-b74f257dfc6d"
      },
      "source": [
        "variancia_total=dados.Anos.var() #vars\r\n",
        "total_de_dados=dados.shape[0]\r\n",
        "tabela_produto2=tabela_contagem*tabela_var\r\n",
        "varS2=tabela_produto2.sum()/total_de_dados\r\n",
        "\r\n",
        "R2=1-(varS2/variancia_total)\r\n",
        "R2[0]"
      ],
      "execution_count": 38,
      "outputs": [
        {
          "output_type": "execute_result",
          "data": {
            "text/plain": [
              "-0.021931741671689764"
            ]
          },
          "metadata": {
            "tags": []
          },
          "execution_count": 38
        }
      ]
    },
    {
      "cell_type": "markdown",
      "metadata": {
        "id": "mW4K9TxHTNuj"
      },
      "source": [
        "Vemos que a variancia da idade para cada estado civil possui valores próximos a variancia da população. ou seja, ao quebrar os dados em categooria não foi possível reduzir a variancia, o que indica que a relação entre as variáveis é muito pequena."
      ]
    },
    {
      "cell_type": "markdown",
      "metadata": {
        "id": "9Ek7szKBBi45"
      },
      "source": [
        "CORRELAÇÃO PARA DADOS NÃO AGRUPADOS:"
      ]
    },
    {
      "cell_type": "code",
      "metadata": {
        "id": "Arz1usBOWCBe",
        "colab": {
          "base_uri": "https://localhost:8080/",
          "height": 302
        },
        "outputId": "70e7efbd-7dd4-4149-a1db-6769683c02d9"
      },
      "source": [
        "setor_analfabetismo = {'Setor_primario': [2.0,2.5,2.9,3.3,4.1,7.0], 'Indice_analfabetismo': [17.5,18.5,19.5,22.2,26.5,36.6]}\r\n",
        "indice=['São Paulo','Rio de Janeiro','Belém','Belo Horizonte','Salvador','Recife']\r\n",
        "indicadores_sociais_estados=pd.DataFrame(data=setor_analfabetismo,index=indice)\r\n",
        "indicadores_sociais_estados\r\n",
        "\r\n",
        "relacao_setor_anafalbetimo=sns.scatterplot(x=indicadores_sociais_estados.Setor_primario,y=indicadores_sociais_estados.Indice_analfabetismo)\r\n",
        "relacao_setor_anafalbetimo"
      ],
      "execution_count": 39,
      "outputs": [
        {
          "output_type": "execute_result",
          "data": {
            "text/plain": [
              "<matplotlib.axes._subplots.AxesSubplot at 0x7f846791ab38>"
            ]
          },
          "metadata": {
            "tags": []
          },
          "execution_count": 39
        },
        {
          "output_type": "display_data",
          "data": {
            "image/png": "[encoded data removed]",
            "text/plain": [
              "<Figure size 432x288 with 1 Axes>"
            ]
          },
          "metadata": {
            "tags": [],
            "needs_background": "light"
          }
        }
      ]
    },
    {
      "cell_type": "code",
      "metadata": {
        "colab": {
          "base_uri": "https://localhost:8080/"
        },
        "id": "UG_OOp8ggBsg",
        "outputId": "b6504576-482d-475f-ffc8-e9f198c094f7"
      },
      "source": [
        "media_setor_primario=indicadores_sociais_estados.Setor_primario.mean()\r\n",
        "desvio_padrao_setor_primario=indicadores_sociais_estados.Setor_primario.std()\r\n",
        "media_analfabetismo=indicadores_sociais_estados.Indice_analfabetismo.mean()\r\n",
        "desvio_padrao_analfabetismo=indicadores_sociais_estados.Indice_analfabetismo.std()\r\n",
        "\r\n",
        "desvio_da_media_setor_primario=[]\r\n",
        "normalizando_desvio_da_media_setor_primario=[]\r\n",
        "desvio_da_media_analfabetismo=[]\r\n",
        "normalizando_desvio_da_media_analfabetismo=[]\r\n",
        "\r\n",
        "for estado in indicadores_sociais_estados.Setor_primario:\r\n",
        "  desvio1=estado-media_setor_primario\r\n",
        "  desvio_da_media_setor_primario.append(desvio1)\r\n",
        "\r\n",
        "for desvio in desvio_da_media_setor_primario:\r\n",
        "  normalizado1=desvio/desvio_padrao_setor_primario\r\n",
        "  normalizando_desvio_da_media_setor_primario.append(normalizado1)  \r\n",
        "\r\n",
        "for estado in indicadores_sociais_estados.Indice_analfabetismo:\r\n",
        "  desvio2=estado-media_analfabetismo\r\n",
        "  desvio_da_media_analfabetismo.append(desvio2)  \r\n",
        "\r\n",
        "for desvio in desvio_da_media_analfabetismo:\r\n",
        "  normalizado2=desvio/desvio_padrao_analfabetismo\r\n",
        "  normalizando_desvio_da_media_analfabetismo.append(normalizado2)\r\n",
        "\r\n",
        "##produto_entre_normalizadsos=[normalizando_desvio_da_media_analfabetismo*normalizando_desvio_da_media_analfabetismo] \r\n",
        "dicionario_setor_analfabetismo = {'Setor_primario': [2.0,2.5,2.9,3.3,4.1,7.0],\r\n",
        "                              'Indice_analfabetismo': [17.5,18.5,19.5,22.2,26.5,36.6],\r\n",
        "                              'Desvio_setor_primario':desvio_da_media_setor_primario,\r\n",
        "                              'Desvio_analfabetismo':desvio_da_media_analfabetismo,\r\n",
        "                              'normalizado_setor_primario':normalizando_desvio_da_media_setor_primario,\r\n",
        "                              'normalizado_analfabetismo':normalizando_desvio_da_media_analfabetismo}\r\n",
        "indice=['São Paulo','Rio de Janeiro','Belém','Belo Horizonte','Salvador','Recife'] \r\n",
        "\r\n",
        "tabela_setor_analfabetismo=pd.DataFrame(data=dicionario_setor_analfabetismo,index=indice)\r\n",
        "tabela_setor_analfabetismo['Produto_normalizados']=tabela_setor_analfabetismo.normalizado_analfabetismo*tabela_setor_analfabetismo.normalizado_setor_primario\r\n",
        "# tabela_setor_analfabetismo\r\n",
        "\r\n",
        "somatorio_produto_normalizado=tabela_setor_analfabetismo.Produto_normalizados.sum()\r\n",
        "# print(somatorio_produto_normalizado)\r\n",
        "\r\n",
        "total_de_dados=tabela_setor_analfabetismo.shape[0]\r\n",
        "# total_de_dados\r\n",
        "\r\n",
        "coeficiente_de_correlacao=somatorio_produto_normalizado/total_de_dados\r\n",
        "coeficiente_de_correlacao\r\n",
        "\r\n"
      ],
      "execution_count": 40,
      "outputs": [
        {
          "output_type": "execute_result",
          "data": {
            "text/plain": [
              "0.8284199652508075"
            ]
          },
          "metadata": {
            "tags": []
          },
          "execution_count": 40
        }
      ]
    },
    {
      "cell_type": "markdown",
      "metadata": {
        "id": "OQbnH0gXBQGm"
      },
      "source": [
        "Acima vemos um considerável grau de correlação entre as pessoas que trabalham no setor primário da economia e seu grau de instrução."
      ]
    },
    {
      "cell_type": "markdown",
      "metadata": {
        "id": "LQE1jv_AVbTf"
      },
      "source": [
        "## Gráfico q x q"
      ]
    },
    {
      "cell_type": "markdown",
      "metadata": {
        "id": "-6j4CzVYX1Fq"
      },
      "source": [
        "Gráfico quantis x quantis"
      ]
    },
    {
      "cell_type": "code",
      "metadata": {
        "colab": {
          "base_uri": "https://localhost:8080/",
          "height": 264
        },
        "id": "8WCrNtmS5j4W",
        "outputId": "b3250308-d44e-4a62-a368-d8c1bb4e6435"
      },
      "source": [
        "dados_salarios=pd.read_excel(\"/content/drive/My Drive/Dados_livro_estatistica_basica.xlsx\",'CD-Salarios',header=4)\r\n",
        "\r\n",
        "professores=dados_salarios['Prof. Sec.'].sort_values()\r\n",
        "\r\n",
        "Administrador=dados_salarios['Administrador'].sort_values()\r\n",
        "\r\n",
        "lista_numeros=[0,100,60000]\r\n",
        "# lista_numeros2=[1,2,3,4,5,6,7,8,9,10,11,12,13,14,15,16,17,18]\r\n",
        "\r\n",
        "\r\n",
        "plt.plot(lista_numeros,lista_numeros)\r\n",
        "plt.plot(professores,Administrador)\r\n",
        "plt.xlabel='teste'"
      ],
      "execution_count": 41,
      "outputs": [
        {
          "output_type": "display_data",
          "data": {
            "image/png": "[encoded data removed]",
            "text/plain": [
              "<Figure size 432x288 with 1 Axes>"
            ]
          },
          "metadata": {
            "tags": [],
            "needs_background": "light"
          }
        }
      ]
    },
    {
      "cell_type": "markdown",
      "metadata": {
        "id": "2zFW_VWfXXPq"
      },
      "source": [
        "Observamos acima que admnistradores que ganham bem ganham mais que os professores que também ganham bem. Além disso, admistradoes quee ganham mal ganham mais que professores que ganham mal. Os seja, os percentis de dados sobre os administradores sempre são maiores que os pencentis de professores. Concluímos isso ao notar que todos os dados eestão prersentes sobre a curva x=y"
      ]
    },
    {
      "cell_type": "code",
      "metadata": {
        "id": "j_hf9AYIUa3G"
      },
      "source": [
        ""
      ],
      "execution_count": null,
      "outputs": []
    }
  ]
}